{
 "cells": [
  {
   "cell_type": "markdown",
   "metadata": {},
   "source": [
    "<div style=\"border:solid green 2px; padding: 20px\"> <h1 style=\"color:green; margin-bottom:20px\">Reviewer's comment v1</h1>\n",
    "\n",
    "Hello Joshua!\n",
    "\n",
    "I'm happy to review your project today 🙌\n",
    "\n",
    "You can find my comments under the heading **«Review»**. I will categorize my comments in green, blue or red boxes like this:\n",
    "\n",
    "<div class=\"alert alert-success\">\n",
    "    <b>Success:</b> if everything is done successfully\n",
    "</div>\n",
    "<div class=\"alert alert-warning\">\n",
    "    <b>Remarks:</b> if I can give some recommendations or ways to improve the project\n",
    "</div>\n",
    "<div class=\"alert alert-danger\">\n",
    "    <b>Needs fixing:</b> if the block requires some corrections. Work can't be accepted with the red comments\n",
    "</div>\n",
    "\n",
    "Please don't remove my comments. If you have any questions, don't hesitate to respond to my comments in a different section.\n",
    "    \n",
    "<div class=\"alert alert-info\"> <b>Student comments:</b> For example like this</div>     \n"
   ]
  },
  {
   "cell_type": "markdown",
   "metadata": {},
   "source": [
    "<div style=\"border:solid green 2px; padding: 20px\">\n",
    "<b>Reviewer's comment v1</b>\n",
    "    \n",
    "<b>General Feedback</b>  \n",
    " \n",
    "Hello Joshua,  \n",
    "    \n",
    "You’ve submitted another project—great work! Your commitment to pushing through the challenges of this program is admirable.\n",
    "    \n",
    "There are no critical issues left, so your project has been accepted! You can find my more detailed feedback within your project file in the `Reviewer's comment v1` section.\n",
    "\n",
    "Wishing you interesting projects in the upcoming sprints! ☘️\n",
    "</div>"
   ]
  },
  {
   "cell_type": "markdown",
   "metadata": {
    "id": "9LMszr5T0Oft"
   },
   "source": [
    "# Video Game Sales Analysis Project\n",
    "## Project Overview\n",
    "\n",
    "In this project, you'll analyze video game sales data to identify patterns that determine a game's success. Working as an analyst for the online store Ice, you'll use this information to help plan future advertising campaigns.\n",
    "\n",
    "## Environment Setup and Required Libraries"
   ]
  },
  {
   "cell_type": "markdown",
   "metadata": {},
   "source": [
    "<div style=\"background-color: #d4edda; color: #155724; padding: 15px; border-radius: 4px; border: 1px solid #c3e6cb;\">\n",
    "\n",
    "<b>Reviewer's comment v1</b>\n",
    " \n",
    "Great job adding additional information about the project goal. It would also be helpful to share the steps you plan to complete.\n",
    "\n",
    "</div>"
   ]
  },
  {
   "cell_type": "code",
   "execution_count": 1,
   "metadata": {
    "id": "uoUK3_uG0O1A"
   },
   "outputs": [],
   "source": [
    "# Import all required libraries\n",
    "import pandas as pd\n",
    "import numpy as np\n",
    "import matplotlib.pyplot as plt\n",
    "import seaborn as sns\n",
    "from scipy.stats import linregress\n",
    "import scipy.stats as stats"
   ]
  },
  {
   "cell_type": "markdown",
   "metadata": {
    "id": "elxRwYBn0STd"
   },
   "source": [
    "## Step 1: Loading and Initial Data Exploration\n",
    "\n",
    "First, let's load our dataset and examine its basic properties:"
   ]
  },
  {
   "cell_type": "code",
   "execution_count": 2,
   "metadata": {
    "id": "e4Ic2Rpq0Sq9"
   },
   "outputs": [],
   "source": [
    "# Load the dataset\n",
    "df = pd.read_csv('games.csv')"
   ]
  },
  {
   "cell_type": "code",
   "execution_count": 3,
   "metadata": {
    "id": "sTug7Lxo0VnO"
   },
   "outputs": [
    {
     "name": "stdout",
     "output_type": "stream",
     "text": [
      "<class 'pandas.core.frame.DataFrame'>\n",
      "RangeIndex: 16715 entries, 0 to 16714\n",
      "Data columns (total 11 columns):\n",
      " #   Column           Non-Null Count  Dtype  \n",
      "---  ------           --------------  -----  \n",
      " 0   Name             16713 non-null  object \n",
      " 1   Platform         16715 non-null  object \n",
      " 2   Year_of_Release  16446 non-null  float64\n",
      " 3   Genre            16713 non-null  object \n",
      " 4   NA_sales         16715 non-null  float64\n",
      " 5   EU_sales         16715 non-null  float64\n",
      " 6   JP_sales         16715 non-null  float64\n",
      " 7   Other_sales      16715 non-null  float64\n",
      " 8   Critic_Score     8137 non-null   float64\n",
      " 9   User_Score       10014 non-null  object \n",
      " 10  Rating           9949 non-null   object \n",
      "dtypes: float64(6), object(5)\n",
      "memory usage: 1.4+ MB\n"
     ]
    }
   ],
   "source": [
    "# Display basic information about the dataset\n",
    "df.info()"
   ]
  },
  {
   "cell_type": "code",
   "execution_count": 4,
   "metadata": {
    "id": "H54YzTNs0aAV"
   },
   "outputs": [
    {
     "name": "stdout",
     "output_type": "stream",
     "text": [
      "0\n"
     ]
    }
   ],
   "source": [
    "# Check for duplicate entries\n",
    "duplicate_count = df.duplicated().sum()\n",
    "print(duplicate_count)"
   ]
  },
  {
   "cell_type": "markdown",
   "metadata": {
    "id": "7Dy9svZV0lAt"
   },
   "source": [
    "### Key Questions to Answer:\n",
    "- What's the total number of records in our dataset?\n",
    "- What data types are present in each column?\n",
    "- Are there any obvious issues with the data?\n",
    "- Do we see any immediate patterns or anomalies?"
   ]
  },
  {
   "cell_type": "markdown",
   "metadata": {},
   "source": [
    "Total records:"
   ]
  },
  {
   "cell_type": "code",
   "execution_count": 5,
   "metadata": {},
   "outputs": [
    {
     "data": {
      "text/plain": [
       "(16715, 11)"
      ]
     },
     "execution_count": 5,
     "metadata": {},
     "output_type": "execute_result"
    }
   ],
   "source": [
    "df.shape"
   ]
  },
  {
   "cell_type": "markdown",
   "metadata": {},
   "source": [
    "Data types:"
   ]
  },
  {
   "cell_type": "code",
   "execution_count": 6,
   "metadata": {},
   "outputs": [
    {
     "data": {
      "text/plain": [
       "Name                object\n",
       "Platform            object\n",
       "Year_of_Release    float64\n",
       "Genre               object\n",
       "NA_sales           float64\n",
       "EU_sales           float64\n",
       "JP_sales           float64\n",
       "Other_sales        float64\n",
       "Critic_Score       float64\n",
       "User_Score          object\n",
       "Rating              object\n",
       "dtype: object"
      ]
     },
     "execution_count": 6,
     "metadata": {},
     "output_type": "execute_result"
    }
   ],
   "source": [
    "df.dtypes"
   ]
  },
  {
   "cell_type": "markdown",
   "metadata": {},
   "source": [
    "Obvious issues: missing values, wrong data type for some columns"
   ]
  },
  {
   "cell_type": "code",
   "execution_count": 7,
   "metadata": {},
   "outputs": [
    {
     "data": {
      "text/plain": [
       "Name                  2\n",
       "Platform              0\n",
       "Year_of_Release     269\n",
       "Genre                 2\n",
       "NA_sales              0\n",
       "EU_sales              0\n",
       "JP_sales              0\n",
       "Other_sales           0\n",
       "Critic_Score       8578\n",
       "User_Score         6701\n",
       "Rating             6766\n",
       "dtype: int64"
      ]
     },
     "execution_count": 7,
     "metadata": {},
     "output_type": "execute_result"
    }
   ],
   "source": [
    "df.isnull().sum()"
   ]
  },
  {
   "cell_type": "markdown",
   "metadata": {},
   "source": [
    "Patterns or abnormalities: none"
   ]
  },
  {
   "cell_type": "code",
   "execution_count": 8,
   "metadata": {},
   "outputs": [
    {
     "name": "stdout",
     "output_type": "stream",
     "text": [
      "[1980. 1981. 1982. 1983. 1984. 1985. 1986. 1987. 1988. 1989.]\n",
      "Action          3369\n",
      "Sports          2348\n",
      "Misc            1750\n",
      "Role-Playing    1498\n",
      "Shooter         1323\n",
      "Adventure       1303\n",
      "Racing          1249\n",
      "Platform         888\n",
      "Simulation       873\n",
      "Fighting         849\n",
      "Strategy         683\n",
      "Puzzle           580\n",
      "Name: Genre, dtype: int64\n"
     ]
    }
   ],
   "source": [
    "print(df['Year_of_Release'].sort_values().unique()[:10])\n",
    "print(df['Genre'].value_counts())"
   ]
  },
  {
   "cell_type": "markdown",
   "metadata": {
    "id": "sJtUdFp30oet"
   },
   "source": [
    "## Step 2: Data Preparation\n",
    "\n",
    "### 2.1 Standardizing Column Names"
   ]
  },
  {
   "cell_type": "code",
   "execution_count": 9,
   "metadata": {
    "id": "0UbeqYMh0lW2"
   },
   "outputs": [],
   "source": [
    "# Convert column names to lowercase\n",
    "df.columns = df.columns.str.lower()"
   ]
  },
  {
   "cell_type": "code",
   "execution_count": 10,
   "metadata": {
    "id": "zNR2bWIf0qTp"
   },
   "outputs": [
    {
     "name": "stdout",
     "output_type": "stream",
     "text": [
      "Index(['name', 'platform', 'year_of_release', 'genre', 'na_sales', 'eu_sales',\n",
      "       'jp_sales', 'other_sales', 'critic_score', 'user_score', 'rating'],\n",
      "      dtype='object')\n"
     ]
    }
   ],
   "source": [
    "# Verify the changes\n",
    "print(df.columns)"
   ]
  },
  {
   "cell_type": "markdown",
   "metadata": {},
   "source": [
    "<div style=\"background-color: #d4edda; color: #155724; padding: 15px; border-radius: 4px; border: 1px solid #c3e6cb;\">\n",
    "\n",
    "<b>Reviewer's comment v1:</b>\n",
    "    \n",
    "Regarding the column name changes, everything is correct. The most common convention in Python is to use snake case (e.g., `first_name`). You can read more about this naming style here:\n",
    "\n",
    "https://levelup.gitconnected.com/case-styles-in-python-fd9591e57f86 \n",
    "\n",
    "Using snake case improves readability and follows the standard Python style guide.\n",
    "</div>"
   ]
  },
  {
   "cell_type": "markdown",
   "metadata": {
    "id": "hyWGqpK_0sb2"
   },
   "source": [
    "### 2.2 Data Type Conversion"
   ]
  },
  {
   "cell_type": "code",
   "execution_count": 11,
   "metadata": {
    "id": "bum4x2eG0uJe"
   },
   "outputs": [
    {
     "data": {
      "text/plain": [
       "name                object\n",
       "platform            object\n",
       "year_of_release    float64\n",
       "genre               object\n",
       "na_sales           float64\n",
       "eu_sales           float64\n",
       "jp_sales           float64\n",
       "other_sales        float64\n",
       "critic_score       float64\n",
       "user_score          object\n",
       "rating              object\n",
       "dtype: object"
      ]
     },
     "execution_count": 11,
     "metadata": {},
     "output_type": "execute_result"
    }
   ],
   "source": [
    "# Check current data types\n",
    "df.dtypes"
   ]
  },
  {
   "cell_type": "code",
   "execution_count": 12,
   "metadata": {
    "id": "j6wGqKZB0uh9"
   },
   "outputs": [],
   "source": [
    "# Make changes to data types if necessary\n",
    "# Describe the columns where the data types have been changed and why.\n",
    "\n",
    "# Convert 'year_of_release' to Int64 (allows for missing values)\n",
    "df['year_of_release'] = pd.to_numeric(df['year_of_release'], errors='coerce').astype('Int64')\n",
    "\n",
    "# Handle 'tbd' in 'user_score'\n",
    "df['user_score'] = df['user_score'].replace('tbd', pd.NA)\n",
    "\n",
    "# Convert 'user_score' to float\n",
    "df['user_score'] = pd.to_numeric(df['user_score'], errors='coerce')"
   ]
  },
  {
   "cell_type": "code",
   "execution_count": 13,
   "metadata": {
    "id": "u_2YXNQR1UKG"
   },
   "outputs": [],
   "source": [
    "# Pay attention to the abbreviation TBD (to be determined). Specify how you intend to handle such cases."
   ]
  },
  {
   "cell_type": "markdown",
   "metadata": {},
   "source": [
    "user_score: Was object because of 'tbd' (non-numeric values). Replaced 'tbd' with NaN, then converted to float64 for proper numerical analysis."
   ]
  },
  {
   "cell_type": "markdown",
   "metadata": {
    "id": "Op-5jvJA04du"
   },
   "source": [
    "### 2.3 Handling Missing Values"
   ]
  },
  {
   "cell_type": "code",
   "execution_count": 14,
   "metadata": {
    "id": "kgQM57IU03yn"
   },
   "outputs": [
    {
     "data": {
      "text/plain": [
       "name                  2\n",
       "platform              0\n",
       "year_of_release     269\n",
       "genre                 2\n",
       "na_sales              0\n",
       "eu_sales              0\n",
       "jp_sales              0\n",
       "other_sales           0\n",
       "critic_score       8578\n",
       "user_score         9125\n",
       "rating             6766\n",
       "dtype: int64"
      ]
     },
     "execution_count": 14,
     "metadata": {},
     "output_type": "execute_result"
    }
   ],
   "source": [
    "# Examine missing values\n",
    "df.isnull().sum()"
   ]
  },
  {
   "cell_type": "code",
   "execution_count": 15,
   "metadata": {
    "id": "IbjVBu5H06kW"
   },
   "outputs": [
    {
     "name": "stdout",
     "output_type": "stream",
     "text": [
      "name                0.01\n",
      "platform            0.00\n",
      "year_of_release     1.61\n",
      "genre               0.01\n",
      "na_sales            0.00\n",
      "eu_sales            0.00\n",
      "jp_sales            0.00\n",
      "other_sales         0.00\n",
      "critic_score       51.32\n",
      "user_score         54.59\n",
      "rating             40.48\n",
      "dtype: float64\n"
     ]
    }
   ],
   "source": [
    "# Calculate percentage of missing values\n",
    "missing_percent = (df.isnull().sum() / len(df)) * 100\n",
    "print(missing_percent.round(2))"
   ]
  },
  {
   "cell_type": "markdown",
   "metadata": {},
   "source": [
    "<div style=\"background-color: #d4edda; color: #155724; padding: 15px; border-radius: 4px; border: 1px solid #c3e6cb;\">\n",
    "\n",
    "<b>Reviewer's comment v1:</b>\n",
    "    \n",
    "Great job checking both the absolute numbers and the percentages of missing values in your dataset. This thorough approach helps ensure you have a clear understanding of the extent of missing data and its potential impact on your analysis. \n"
   ]
  },
  {
   "cell_type": "markdown",
   "metadata": {},
   "source": [
    "<div style=\"background-color: #fff3cd; color: #856404; padding: 15px; border-radius: 4px; border: 1px solid #ffeeba;\">\n",
    "\n",
    "<b>Reviewer's comment v1:</b>\n",
    "    \n",
    "Additionally, it could be interesting to check the percentage of missing values, as this helps to understand the overall impact. You could also consider creating a table to present this information:  \n",
    "\n",
    "```pyton\n",
    "    df.isnull().sum()/len(df)\n",
    "\n",
    "    Or you can even make a dataframe of of it using to_frame\n",
    "\n",
    "    mis_values = df.isnull().sum().to_frame('missing_values')\n",
    "    mis_values['%'] = round(df.isnull().sum()/len(df),3)\n",
    "    mis_values.sort_values(by='%', ascending=False)\n",
    "```"
   ]
  },
  {
   "cell_type": "code",
   "execution_count": 16,
   "metadata": {
    "id": "7JKmuhxF07a3"
   },
   "outputs": [],
   "source": [
    "# Analyze patterns in missing values"
   ]
  },
  {
   "cell_type": "code",
   "execution_count": 17,
   "metadata": {
    "id": "NWeZ6Pj008iW"
   },
   "outputs": [],
   "source": [
    "# Handle missing values based on analysis\n",
    "# Your code here to handle missing values according to your strategy\n",
    "\n",
    "# Drop rows with missing 'name'\n",
    "df = df.dropna(subset=['name']).copy()  # Use .copy() to prevent chained assignment issues\n",
    "\n",
    "# Fill missing 'rating' with 'Unknown'\n",
    "df.loc[:, 'rating'] = df['rating'].fillna('Unknown')\n",
    "\n",
    "# Fill missing 'year_of_release' with the mode\n",
    "most_common_year = df['year_of_release'].mode().iloc[0]\n",
    "df.loc[:, 'year_of_release'] = df['year_of_release'].fillna(most_common_year)"
   ]
  },
  {
   "cell_type": "code",
   "execution_count": 18,
   "metadata": {
    "id": "jVIFovLz091G"
   },
   "outputs": [],
   "source": [
    "# Why do you think the values are missing? Give possible reasons.\n",
    "# Explain why you filled in the missing values as you did or why you decided to leave them blank."
   ]
  },
  {
   "cell_type": "markdown",
   "metadata": {},
   "source": [
    "Why might these values be missing?\n",
    "\n",
    "Name: Possibly data entry errors or placeholder rows.\n",
    "\n",
    "User Score / Critic Score: The game might be new or not reviewed.\n",
    "\n",
    "Rating: Missing ESRB ratings could be due to international games or indie releases.\n",
    "\n",
    "Year: Data could’ve been scraped from multiple sources with inconsistencies.\n",
    "\n",
    "Why we handled them this way:\n",
    "\n",
    "Dropped rows missing name since a game with no name can’t be analyzed meaningfully.\n",
    "\n",
    "Filled rating and year_of_release to avoid dropping too many rows.\n",
    "\n",
    "Left review scores (critic_score, user_score) blank because missing scores might be meaningful (not reviewed yet) and imputing them could distort the results."
   ]
  },
  {
   "cell_type": "markdown",
   "metadata": {},
   "source": [
    "<div style=\"background-color: #d4edda; color: #155724; padding: 15px; border-radius: 4px; border: 1px solid #c3e6cb;\">\n",
    "\n",
    "<b>Reviewer's comment v1</b>\n",
    " \n",
    "Great job evaluating the missing values-everything is correct here! 👏 "
   ]
  },
  {
   "cell_type": "markdown",
   "metadata": {
    "id": "NgRdPJYJ1ZKG"
   },
   "source": [
    "### 2.4 Calculate Total Sales"
   ]
  },
  {
   "cell_type": "code",
   "execution_count": 19,
   "metadata": {
    "id": "rc_LWvmr1Zj3"
   },
   "outputs": [],
   "source": [
    "# Calculate total sales across all regions and put them in a different column\n",
    "df['total_sales'] = df['na_sales'] + df['eu_sales'] + df['jp_sales'] + df['other_sales']"
   ]
  },
  {
   "cell_type": "markdown",
   "metadata": {},
   "source": [
    "<div style=\"background-color: #d4edda; color: #155724; padding: 15px; border-radius: 4px; border: 1px solid #c3e6cb;\">\n",
    "\n",
    "<b>Reviewer's comment v1:</b>\n",
    "\n",
    "Great job-everything is correct here!\n",
    "\n",
    "As an alternative approach, you could also calculate total sales using the following method:\n",
    "    \n",
    "```python\n",
    "games_df['total_sales'] = games_df[['na_sales', 'eu_sales', 'jp_sales', 'other_sales']].sum(axis=1)\n",
    "```"
   ]
  },
  {
   "cell_type": "markdown",
   "metadata": {
    "id": "Jt9oL4lS1ePu"
   },
   "source": [
    "# Step 3: Analyzing Video Game Sales Data\n",
    "\n",
    "## 3.1 Temporal Analysis of Game Releases\n",
    "Let's first examine the distribution of game releases across different years to understand our data's coverage and significance:"
   ]
  },
  {
   "cell_type": "code",
   "execution_count": 20,
   "metadata": {
    "id": "DaxQrjBNGUuy"
   },
   "outputs": [],
   "source": [
    "# Create a DataFrame with game releases by year\n",
    "games_per_year = df['year_of_release'].value_counts().sort_index().reset_index()\n",
    "games_per_year.columns = ['year', 'release_count']"
   ]
  },
  {
   "cell_type": "code",
   "execution_count": 21,
   "metadata": {
    "id": "sZjP-hb61fIf"
   },
   "outputs": [
    {
     "data": {
      "image/png": "[encoded data removed]",
      "text/plain": [
       "<Figure size 1400x600 with 1 Axes>"
      ]
     },
     "metadata": {},
     "output_type": "display_data"
    }
   ],
   "source": [
    "# Visualize the distribution of games across years\n",
    "games_per_year['year'] = games_per_year['year'].astype(int)\n",
    "games_per_year['release_count'] = games_per_year['release_count'].astype(int)\n",
    "\n",
    "plt.figure(figsize=(14, 6))\n",
    "plt.plot(games_per_year['year'], games_per_year['release_count'], marker='o')\n",
    "plt.title('Number of Game Releases Per Year')\n",
    "plt.xlabel('Year')\n",
    "plt.ylabel('Number of Releases')\n",
    "plt.grid(True)\n",
    "plt.tight_layout()\n",
    "plt.show()"
   ]
  },
  {
   "cell_type": "markdown",
   "metadata": {},
   "source": [
    "<div style=\"background-color: #d4edda; color: #155724; padding: 15px; border-radius: 4px; border: 1px solid #c3e6cb;\">\n",
    "\n",
    "<b>Reviewer's comment v1:</b>\n",
    "    \n",
    "Great, it looks like there were almost no games before 1995.\n",
    "\n",
    "</div>"
   ]
  },
  {
   "cell_type": "code",
   "execution_count": 22,
   "metadata": {
    "id": "6hJ4jyLq1gIN"
   },
   "outputs": [
    {
     "name": "stdout",
     "output_type": "stream",
     "text": [
      "    year_of_release  num_releases  total_sales_sum  avg_sales  median_sales\n",
      "0              1980             9            11.38   1.264444         0.770\n",
      "1              1981            46            35.68   0.775652         0.465\n",
      "2              1982            36            28.88   0.802222         0.540\n",
      "3              1983            17            16.80   0.988235         0.770\n",
      "4              1984            14            50.35   3.596429         1.485\n",
      "5              1985            14            53.95   3.853571         1.015\n",
      "6              1986            21            37.08   1.765714         1.360\n",
      "7              1987            16            21.70   1.356250         0.885\n",
      "8              1988            15            47.21   3.147333         1.510\n",
      "9              1989            17            73.45   4.320588         1.610\n",
      "10             1990            16            49.37   3.085625         1.520\n",
      "11             1991            41            32.23   0.786098         0.380\n",
      "12             1992            43            76.16   1.771163         0.790\n",
      "13             1993            60            45.99   0.766500         0.355\n",
      "14             1994           121            79.23   0.654793         0.270\n",
      "15             1995           219            88.12   0.402374         0.140\n",
      "16             1996           263           199.15   0.757224         0.210\n",
      "17             1997           289           201.07   0.695744         0.280\n",
      "18             1998           379           256.31   0.676280         0.260\n",
      "19             1999           338           251.11   0.742929         0.305\n",
      "20             2000           350           201.66   0.576171         0.250\n",
      "21             2001           482           331.46   0.687676         0.250\n",
      "22             2002           829           394.97   0.476441         0.170\n",
      "23             2003           775           357.54   0.461342         0.190\n",
      "24             2004           762           418.68   0.549449         0.210\n",
      "25             2005           939           457.82   0.487561         0.170\n",
      "26             2006          1006           517.71   0.514622         0.110\n",
      "27             2007          1197           604.75   0.505221         0.150\n",
      "28             2008          1696           770.42   0.454257         0.160\n",
      "29             2009          1426           658.82   0.462006         0.150\n",
      "30             2010          1255           590.13   0.470223         0.140\n",
      "31             2011          1136           507.58   0.446813         0.130\n",
      "32             2012           653           355.84   0.544931         0.170\n",
      "33             2013           544           361.24   0.664044         0.190\n",
      "34             2014           581           331.53   0.570620         0.160\n",
      "35             2015           606           267.98   0.442211         0.090\n",
      "36             2016           502           129.94   0.258845         0.060\n"
     ]
    }
   ],
   "source": [
    "# Display summary statistics for each year\n",
    "df['total_sales'] = df['na_sales'] + df['eu_sales'] + df['jp_sales'] + df['other_sales']\n",
    "\n",
    "# Group data by year and calculate summary statistics\n",
    "yearly_summary = df.groupby('year_of_release').agg(\n",
    "    num_releases=('name', 'count'),\n",
    "    total_sales_sum=('total_sales', 'sum'),\n",
    "    avg_sales=('total_sales', 'mean'),\n",
    "    median_sales=('total_sales', 'median')\n",
    ").reset_index()\n",
    "\n",
    "# Display the summary statistics table to the user\n",
    "print(yearly_summary)"
   ]
  },
  {
   "cell_type": "markdown",
   "metadata": {
    "id": "v4EHTXiUGeh6"
   },
   "source": [
    "### Questions to Consider:\n",
    "- Which years show significant numbers of game releases?\n",
    "- Are there any notable trends or patterns in the number of releases?\n",
    "- Is there enough recent data to make predictions for 2017?"
   ]
  },
  {
   "cell_type": "markdown",
   "metadata": {},
   "source": [
    "2008–2011: The peak of the Xbox 360, PS3, and Wii generation\n",
    "\n",
    "There is enough recent data to make predictions for 2017."
   ]
  },
  {
   "cell_type": "markdown",
   "metadata": {
    "id": "-rQehsGk11-W"
   },
   "source": [
    "## 3.2 Platform Sales Analysis Over Time\n",
    "\n",
    "Now let's analyze how sales vary across platforms and years:"
   ]
  },
  {
   "cell_type": "code",
   "execution_count": 23,
   "metadata": {
    "id": "6czXW9Ww13AX"
   },
   "outputs": [],
   "source": [
    "# Calculate total sales by platform and year\n",
    "platform_year_sales = df.groupby(['platform', 'year_of_release']).agg(\n",
    "    total_sales=('total_sales', 'sum')\n",
    ").reset_index()"
   ]
  },
  {
   "cell_type": "code",
   "execution_count": 24,
   "metadata": {
    "id": "Dz_1_sNEGlDS"
   },
   "outputs": [
    {
     "data": {
      "image/png": "[encoded data removed]",
      "text/plain": [
       "<Figure size 1600x1000 with 2 Axes>"
      ]
     },
     "metadata": {},
     "output_type": "display_data"
    }
   ],
   "source": [
    "# Create a heatmap of platform sales over time\n",
    "heatmap_data = platform_year_sales.pivot(index='year_of_release', columns='platform', values='total_sales')\n",
    "\n",
    "plt.figure(figsize=(16, 10))\n",
    "sns.heatmap(heatmap_data, cmap=\"YlGnBu\", linewidths=0.5, linecolor='gray')\n",
    "\n",
    "plt.title('Total Game Sales by Platform and Year', fontsize=16)\n",
    "plt.xlabel('Platform')\n",
    "plt.ylabel('Year of Release')\n",
    "plt.tight_layout()\n",
    "plt.show()"
   ]
  },
  {
   "cell_type": "code",
   "execution_count": 25,
   "metadata": {
    "id": "DPIZovwbGmLy"
   },
   "outputs": [
    {
     "data": {
      "text/html": [
       "<div>\n",
       "<style scoped>\n",
       "    .dataframe tbody tr th:only-of-type {\n",
       "        vertical-align: middle;\n",
       "    }\n",
       "\n",
       "    .dataframe tbody tr th {\n",
       "        vertical-align: top;\n",
       "    }\n",
       "\n",
       "    .dataframe thead th {\n",
       "        text-align: right;\n",
       "    }\n",
       "</style>\n",
       "<table border=\"1\" class=\"dataframe\">\n",
       "  <thead>\n",
       "    <tr style=\"text-align: right;\">\n",
       "      <th></th>\n",
       "      <th>platform</th>\n",
       "      <th>slope</th>\n",
       "    </tr>\n",
       "  </thead>\n",
       "  <tbody>\n",
       "    <tr>\n",
       "      <th>18</th>\n",
       "      <td>Wii</td>\n",
       "      <td>-21.327909</td>\n",
       "    </tr>\n",
       "    <tr>\n",
       "      <th>12</th>\n",
       "      <td>PS2</td>\n",
       "      <td>-14.446119</td>\n",
       "    </tr>\n",
       "    <tr>\n",
       "      <th>6</th>\n",
       "      <td>GC</td>\n",
       "      <td>-6.499167</td>\n",
       "    </tr>\n",
       "    <tr>\n",
       "      <th>11</th>\n",
       "      <td>PS</td>\n",
       "      <td>-5.714696</td>\n",
       "    </tr>\n",
       "    <tr>\n",
       "      <th>13</th>\n",
       "      <td>PS3</td>\n",
       "      <td>-5.633273</td>\n",
       "    </tr>\n",
       "    <tr>\n",
       "      <th>5</th>\n",
       "      <td>GBA</td>\n",
       "      <td>-5.256000</td>\n",
       "    </tr>\n",
       "    <tr>\n",
       "      <th>8</th>\n",
       "      <td>N64</td>\n",
       "      <td>-4.347054</td>\n",
       "    </tr>\n",
       "    <tr>\n",
       "      <th>20</th>\n",
       "      <td>X360</td>\n",
       "      <td>-4.293007</td>\n",
       "    </tr>\n",
       "    <tr>\n",
       "      <th>9</th>\n",
       "      <td>NES</td>\n",
       "      <td>-3.841084</td>\n",
       "    </tr>\n",
       "    <tr>\n",
       "      <th>14</th>\n",
       "      <td>PSP</td>\n",
       "      <td>-3.834580</td>\n",
       "    </tr>\n",
       "  </tbody>\n",
       "</table>\n",
       "</div>"
      ],
      "text/plain": [
       "   platform      slope\n",
       "18      Wii -21.327909\n",
       "12      PS2 -14.446119\n",
       "6        GC  -6.499167\n",
       "11       PS  -5.714696\n",
       "13      PS3  -5.633273\n",
       "5       GBA  -5.256000\n",
       "8       N64  -4.347054\n",
       "20     X360  -4.293007\n",
       "9       NES  -3.841084\n",
       "14      PSP  -3.834580"
      ]
     },
     "execution_count": 25,
     "metadata": {},
     "output_type": "execute_result"
    }
   ],
   "source": [
    "# Identify platforms with declining sales\n",
    "\n",
    "# Convert year_of_release to regular integers for regression\n",
    "platform_sales_trend = df.groupby(['platform', 'year_of_release']).agg(\n",
    "    total_sales=('total_sales', 'sum')\n",
    ").reset_index()\n",
    "platform_sales_trend['year_of_release'] = platform_sales_trend['year_of_release'].astype(int)\n",
    "\n",
    "# Calculate trend (slope) for each platform\n",
    "trend_data = []\n",
    "\n",
    "for platform in platform_sales_trend['platform'].unique():\n",
    "    data = platform_sales_trend[platform_sales_trend['platform'] == platform]\n",
    "    if len(data) >= 5:  # Ensure enough data points for trend\n",
    "        slope, intercept, r_value, p_value, std_err = linregress(data['year_of_release'], data['total_sales'])\n",
    "        trend_data.append({'platform': platform, 'slope': slope})\n",
    "\n",
    "# Create DataFrame and sort by slope to find declining platforms\n",
    "trend_df = pd.DataFrame(trend_data)\n",
    "declining_platforms = trend_df[trend_df['slope'] < 0].sort_values(by='slope')\n",
    "\n",
    "declining_platforms.head(10)"
   ]
  },
  {
   "cell_type": "markdown",
   "metadata": {
    "id": "Jik7JecCGoNa"
   },
   "source": [
    "### Questions to Consider:\n",
    "- Which platforms show consistent sales over time?\n",
    "- Can you identify platforms that have disappeared from the market?\n",
    "- What's the typical lifecycle of a gaming platform?"
   ]
  },
  {
   "cell_type": "markdown",
   "metadata": {},
   "source": [
    "We can define consistent platforms as those with:\n",
    "\n",
    "A slope near zero in their sales trend\n",
    "\n",
    "At least 5+ years of data, meaning they’ve been around long enough to show stability\n",
    "\n",
    "DS, PSP, PC show consistent sales over time."
   ]
  },
  {
   "cell_type": "markdown",
   "metadata": {},
   "source": [
    "Yes — platforms that:\n",
    "\n",
    "Had high sales followed by steep decline\n",
    "\n",
    "Had no sales in the last few years of the dataset\n",
    "\n",
    "These include: Wii, PS2, GameCube, N64, Xbox 360, GBA, NES, Atari 2600"
   ]
  },
  {
   "cell_type": "markdown",
   "metadata": {},
   "source": [
    "A gaming platform usually follows this pattern:\n",
    "\n",
    "Launch(Year 1)-Slow sales, limited game library\n",
    "\n",
    "Growth(Years 2–4)-Rapid game release increases, rising sales\n",
    "\n",
    "Peak(Years 5–6)-Highest sales and game releases\n",
    "\n",
    "Decline(Years 7–10)-Sales taper off as a new generation arrives\n",
    "\n",
    "End of Life-Few new releases"
   ]
  },
  {
   "cell_type": "markdown",
   "metadata": {},
   "source": [
    "<div style=\"background-color: #d4edda; color: #155724; padding: 15px; border-radius: 4px; border: 1px solid #c3e6cb;\">\n",
    "\n",
    "<b>Reviewer's comment v1:</b>\n",
    "    \n",
    "That is a nice way to check platform life cycle. We can see that only a small subset of the platform still has sales."
   ]
  },
  {
   "cell_type": "markdown",
   "metadata": {
    "id": "Yk_tUP5y17Wv"
   },
   "source": [
    "## 3.3 Determining Relevant Time Period\n",
    "\n",
    "Based on your analysis above, determine the appropriate time period for predicting 2017 sales:"
   ]
  },
  {
   "cell_type": "code",
   "execution_count": 26,
   "metadata": {
    "id": "hVfuRMjyFU3i"
   },
   "outputs": [
    {
     "name": "stdout",
     "output_type": "stream",
     "text": [
      "2013    544\n",
      "2014    581\n",
      "2015    606\n",
      "2016    502\n",
      "Name: year_of_release, dtype: Int64\n"
     ]
    }
   ],
   "source": [
    "# Your code here to filter the dataset to relevant years\n",
    "# Example:\n",
    "# relevant_years = [XXXX, XXXX, XXXX] # Replace with your chosen years\n",
    "# df_relevant = df[df['year_of_release'].isin(relevant_years)]\n",
    "\n",
    "# Justify your choice with data\n",
    "\n",
    "# Define relevant years for prediction\n",
    "relevant_years = [2013, 2014, 2015, 2016]\n",
    "\n",
    "# Filter the dataset\n",
    "df_relevant = df[df['year_of_release'].isin(relevant_years)]\n",
    "\n",
    "# Confirm filtered data\n",
    "print(df_relevant['year_of_release'].value_counts().sort_index())"
   ]
  },
  {
   "cell_type": "markdown",
   "metadata": {},
   "source": [
    "<div style=\"background-color: #d4edda; color: #155724; padding: 15px; border-radius: 4px; border: 1px solid #c3e6cb;\">\n",
    "\n",
    "<b>Reviewer's comment v1</b>\n",
    " \n",
    "Everything is correct! Data has been filtered correctly, as we want to evaluate only recent trends. "
   ]
  },
  {
   "cell_type": "markdown",
   "metadata": {
    "id": "8g_CURLWGzYy"
   },
   "source": [
    "### Document Your Decision:\n",
    "- What years did you select and why?\n",
    "- How does this period reflect current market conditions?\n",
    "- What factors influenced your decision?"
   ]
  },
  {
   "cell_type": "markdown",
   "metadata": {},
   "source": [
    "2013-2016\n",
    "\n",
    "These years reflect the current console generation at the time (PS4, XOne, 3DS).\n",
    "\n",
    "They exclude discontinued platforms (e.g., Wii, PS2).\n",
    "\n",
    "They provide a reliable baseline for 2017 since 2016 is likely the most recent complete year in the dataset."
   ]
  },
  {
   "cell_type": "markdown",
   "metadata": {
    "id": "tNgNPQdYFqka"
   },
   "source": [
    "## 3.4 Platform Performance Analysis\n",
    "\n",
    "Using your selected time period, let's analyze platform performance:"
   ]
  },
  {
   "cell_type": "code",
   "execution_count": 27,
   "metadata": {
    "id": "1bPiDIJ3FsAC"
   },
   "outputs": [
    {
     "data": {
      "text/html": [
       "<div>\n",
       "<style scoped>\n",
       "    .dataframe tbody tr th:only-of-type {\n",
       "        vertical-align: middle;\n",
       "    }\n",
       "\n",
       "    .dataframe tbody tr th {\n",
       "        vertical-align: top;\n",
       "    }\n",
       "\n",
       "    .dataframe thead th {\n",
       "        text-align: right;\n",
       "    }\n",
       "</style>\n",
       "<table border=\"1\" class=\"dataframe\">\n",
       "  <thead>\n",
       "    <tr style=\"text-align: right;\">\n",
       "      <th></th>\n",
       "      <th>platform</th>\n",
       "      <th>total_sales</th>\n",
       "      <th>num_games</th>\n",
       "      <th>avg_sales_per_game</th>\n",
       "    </tr>\n",
       "  </thead>\n",
       "  <tbody>\n",
       "    <tr>\n",
       "      <th>0</th>\n",
       "      <td>3DS</td>\n",
       "      <td>143.25</td>\n",
       "      <td>303</td>\n",
       "      <td>0.472772</td>\n",
       "    </tr>\n",
       "    <tr>\n",
       "      <th>1</th>\n",
       "      <td>DS</td>\n",
       "      <td>1.54</td>\n",
       "      <td>8</td>\n",
       "      <td>0.192500</td>\n",
       "    </tr>\n",
       "    <tr>\n",
       "      <th>2</th>\n",
       "      <td>PC</td>\n",
       "      <td>39.43</td>\n",
       "      <td>189</td>\n",
       "      <td>0.208624</td>\n",
       "    </tr>\n",
       "    <tr>\n",
       "      <th>3</th>\n",
       "      <td>PS3</td>\n",
       "      <td>181.43</td>\n",
       "      <td>345</td>\n",
       "      <td>0.525884</td>\n",
       "    </tr>\n",
       "    <tr>\n",
       "      <th>4</th>\n",
       "      <td>PS4</td>\n",
       "      <td>314.14</td>\n",
       "      <td>392</td>\n",
       "      <td>0.801378</td>\n",
       "    </tr>\n",
       "    <tr>\n",
       "      <th>5</th>\n",
       "      <td>PSP</td>\n",
       "      <td>3.50</td>\n",
       "      <td>67</td>\n",
       "      <td>0.052239</td>\n",
       "    </tr>\n",
       "    <tr>\n",
       "      <th>6</th>\n",
       "      <td>PSV</td>\n",
       "      <td>32.99</td>\n",
       "      <td>358</td>\n",
       "      <td>0.092151</td>\n",
       "    </tr>\n",
       "    <tr>\n",
       "      <th>7</th>\n",
       "      <td>Wii</td>\n",
       "      <td>13.66</td>\n",
       "      <td>23</td>\n",
       "      <td>0.593913</td>\n",
       "    </tr>\n",
       "    <tr>\n",
       "      <th>8</th>\n",
       "      <td>WiiU</td>\n",
       "      <td>64.63</td>\n",
       "      <td>115</td>\n",
       "      <td>0.562000</td>\n",
       "    </tr>\n",
       "    <tr>\n",
       "      <th>9</th>\n",
       "      <td>X360</td>\n",
       "      <td>136.80</td>\n",
       "      <td>186</td>\n",
       "      <td>0.735484</td>\n",
       "    </tr>\n",
       "  </tbody>\n",
       "</table>\n",
       "</div>"
      ],
      "text/plain": [
       "  platform  total_sales  num_games  avg_sales_per_game\n",
       "0      3DS       143.25        303            0.472772\n",
       "1       DS         1.54          8            0.192500\n",
       "2       PC        39.43        189            0.208624\n",
       "3      PS3       181.43        345            0.525884\n",
       "4      PS4       314.14        392            0.801378\n",
       "5      PSP         3.50         67            0.052239\n",
       "6      PSV        32.99        358            0.092151\n",
       "7      Wii        13.66         23            0.593913\n",
       "8     WiiU        64.63        115            0.562000\n",
       "9     X360       136.80        186            0.735484"
      ]
     },
     "execution_count": 27,
     "metadata": {},
     "output_type": "execute_result"
    }
   ],
   "source": [
    "# Analyze platform sales trends\n",
    "platform_performance = df_relevant.groupby('platform').agg(\n",
    "    total_sales=('total_sales', 'sum'),\n",
    "    num_games=('name', 'count'),\n",
    "    avg_sales_per_game=('total_sales', 'mean')\n",
    ").reset_index()\n",
    "\n",
    "platform_performance.head(10)"
   ]
  },
  {
   "cell_type": "code",
   "execution_count": 28,
   "metadata": {
    "id": "49INtJV4Fv-i"
   },
   "outputs": [
    {
     "data": {
      "text/html": [
       "<div>\n",
       "<style scoped>\n",
       "    .dataframe tbody tr th:only-of-type {\n",
       "        vertical-align: middle;\n",
       "    }\n",
       "\n",
       "    .dataframe tbody tr th {\n",
       "        vertical-align: top;\n",
       "    }\n",
       "\n",
       "    .dataframe thead th {\n",
       "        text-align: right;\n",
       "    }\n",
       "</style>\n",
       "<table border=\"1\" class=\"dataframe\">\n",
       "  <thead>\n",
       "    <tr style=\"text-align: right;\">\n",
       "      <th></th>\n",
       "      <th>platform</th>\n",
       "      <th>total_sales</th>\n",
       "      <th>num_games</th>\n",
       "      <th>avg_sales_per_game</th>\n",
       "    </tr>\n",
       "  </thead>\n",
       "  <tbody>\n",
       "    <tr>\n",
       "      <th>0</th>\n",
       "      <td>PS4</td>\n",
       "      <td>314.14</td>\n",
       "      <td>392</td>\n",
       "      <td>0.801378</td>\n",
       "    </tr>\n",
       "    <tr>\n",
       "      <th>1</th>\n",
       "      <td>PS3</td>\n",
       "      <td>181.43</td>\n",
       "      <td>345</td>\n",
       "      <td>0.525884</td>\n",
       "    </tr>\n",
       "    <tr>\n",
       "      <th>2</th>\n",
       "      <td>XOne</td>\n",
       "      <td>159.32</td>\n",
       "      <td>247</td>\n",
       "      <td>0.645020</td>\n",
       "    </tr>\n",
       "    <tr>\n",
       "      <th>3</th>\n",
       "      <td>3DS</td>\n",
       "      <td>143.25</td>\n",
       "      <td>303</td>\n",
       "      <td>0.472772</td>\n",
       "    </tr>\n",
       "    <tr>\n",
       "      <th>4</th>\n",
       "      <td>X360</td>\n",
       "      <td>136.80</td>\n",
       "      <td>186</td>\n",
       "      <td>0.735484</td>\n",
       "    </tr>\n",
       "    <tr>\n",
       "      <th>5</th>\n",
       "      <td>WiiU</td>\n",
       "      <td>64.63</td>\n",
       "      <td>115</td>\n",
       "      <td>0.562000</td>\n",
       "    </tr>\n",
       "    <tr>\n",
       "      <th>6</th>\n",
       "      <td>PC</td>\n",
       "      <td>39.43</td>\n",
       "      <td>189</td>\n",
       "      <td>0.208624</td>\n",
       "    </tr>\n",
       "    <tr>\n",
       "      <th>7</th>\n",
       "      <td>PSV</td>\n",
       "      <td>32.99</td>\n",
       "      <td>358</td>\n",
       "      <td>0.092151</td>\n",
       "    </tr>\n",
       "    <tr>\n",
       "      <th>8</th>\n",
       "      <td>Wii</td>\n",
       "      <td>13.66</td>\n",
       "      <td>23</td>\n",
       "      <td>0.593913</td>\n",
       "    </tr>\n",
       "    <tr>\n",
       "      <th>9</th>\n",
       "      <td>PSP</td>\n",
       "      <td>3.50</td>\n",
       "      <td>67</td>\n",
       "      <td>0.052239</td>\n",
       "    </tr>\n",
       "    <tr>\n",
       "      <th>10</th>\n",
       "      <td>DS</td>\n",
       "      <td>1.54</td>\n",
       "      <td>8</td>\n",
       "      <td>0.192500</td>\n",
       "    </tr>\n",
       "  </tbody>\n",
       "</table>\n",
       "</div>"
      ],
      "text/plain": [
       "   platform  total_sales  num_games  avg_sales_per_game\n",
       "0       PS4       314.14        392            0.801378\n",
       "1       PS3       181.43        345            0.525884\n",
       "2      XOne       159.32        247            0.645020\n",
       "3       3DS       143.25        303            0.472772\n",
       "4      X360       136.80        186            0.735484\n",
       "5      WiiU        64.63        115            0.562000\n",
       "6        PC        39.43        189            0.208624\n",
       "7       PSV        32.99        358            0.092151\n",
       "8       Wii        13.66         23            0.593913\n",
       "9       PSP         3.50         67            0.052239\n",
       "10       DS         1.54          8            0.192500"
      ]
     },
     "execution_count": 28,
     "metadata": {},
     "output_type": "execute_result"
    }
   ],
   "source": [
    "# Sort platforms by total sales\n",
    "sorted_platforms = platform_performance.sort_values(by='total_sales', ascending=False)\n",
    "\n",
    "# Show the full sorted list\n",
    "sorted_platforms.reset_index(drop=True)"
   ]
  },
  {
   "cell_type": "code",
   "execution_count": 29,
   "metadata": {
    "id": "nB8xsmAuG38a"
   },
   "outputs": [
    {
     "data": {
      "image/png": "[encoded data removed]",
      "text/plain": [
       "<Figure size 1200x600 with 1 Axes>"
      ]
     },
     "metadata": {},
     "output_type": "display_data"
    }
   ],
   "source": [
    "# Visualize top platforms\n",
    "# Calculate year-over-year growth for each platform\n",
    "# Your code here to calculate and visualize platform growth rates\n",
    "\n",
    "# Calculate total sales per platform per year\n",
    "platform_year_sales = df_relevant.groupby(['platform', 'year_of_release']).agg(\n",
    "    total_sales=('total_sales', 'sum')\n",
    ").reset_index()\n",
    "\n",
    "# Calculate year-over-year growth for each platform\n",
    "platform_year_sales['sales_growth'] = platform_year_sales.groupby('platform')['total_sales'].pct_change() * 100\n",
    "\n",
    "# Plot year-over-year growth for top platforms (based on total sales)\n",
    "top_platforms = platform_performance.head(5)['platform'].tolist()\n",
    "top_growth_data = platform_year_sales[platform_year_sales['platform'].isin(top_platforms)]\n",
    "\n",
    "# Create the plot\n",
    "plt.figure(figsize=(12, 6))\n",
    "for platform in top_platforms:\n",
    "    platform_data = top_growth_data[top_growth_data['platform'] == platform]\n",
    "    plt.plot(platform_data['year_of_release'], platform_data['sales_growth'], marker='o', label=platform)\n",
    "\n",
    "plt.title('Year-over-Year Sales Growth (2013–2016) for Top Platforms')\n",
    "plt.xlabel('Year')\n",
    "plt.ylabel('Growth Rate (%)')\n",
    "plt.axhline(0, color='gray', linestyle='--', linewidth=1)\n",
    "plt.legend(title='Platform')\n",
    "plt.grid(True)\n",
    "plt.tight_layout()\n",
    "plt.show()"
   ]
  },
  {
   "cell_type": "markdown",
   "metadata": {
    "id": "gss9CaRLG8F6"
   },
   "source": [
    "## 3.5 Sales Distribution Analysis\n",
    "\n",
    "Let's examine the distribution of sales across platforms:"
   ]
  },
  {
   "cell_type": "code",
   "execution_count": 30,
   "metadata": {
    "id": "Tt86KnSmG9Ia"
   },
   "outputs": [
    {
     "data": {
      "image/png": "[encoded data removed]",
      "text/plain": [
       "<Figure size 1400x600 with 1 Axes>"
      ]
     },
     "metadata": {},
     "output_type": "display_data"
    }
   ],
   "source": [
    "# Create box plot of sales by platform\n",
    "\n",
    "plt.figure(figsize=(14, 6))\n",
    "sns.boxplot(data=df_relevant, x='platform', y='total_sales')\n",
    "\n",
    "plt.title('Sales Distribution by Platform (2013–2016)')\n",
    "plt.xlabel('Platform')\n",
    "plt.ylabel('Total Sales per Game (millions)')\n",
    "plt.xticks(rotation=45)\n",
    "plt.tight_layout()\n",
    "plt.show()"
   ]
  },
  {
   "cell_type": "code",
   "execution_count": 31,
   "metadata": {
    "id": "V34QXjQbG-Ti"
   },
   "outputs": [
    {
     "data": {
      "text/html": [
       "<div>\n",
       "<style scoped>\n",
       "    .dataframe tbody tr th:only-of-type {\n",
       "        vertical-align: middle;\n",
       "    }\n",
       "\n",
       "    .dataframe tbody tr th {\n",
       "        vertical-align: top;\n",
       "    }\n",
       "\n",
       "    .dataframe thead th {\n",
       "        text-align: right;\n",
       "    }\n",
       "</style>\n",
       "<table border=\"1\" class=\"dataframe\">\n",
       "  <thead>\n",
       "    <tr style=\"text-align: right;\">\n",
       "      <th></th>\n",
       "      <th>platform</th>\n",
       "      <th>num_games</th>\n",
       "      <th>avg_sales</th>\n",
       "      <th>std_dev</th>\n",
       "      <th>min_sales</th>\n",
       "      <th>q1</th>\n",
       "      <th>median</th>\n",
       "      <th>q3</th>\n",
       "      <th>max_sales</th>\n",
       "    </tr>\n",
       "  </thead>\n",
       "  <tbody>\n",
       "    <tr>\n",
       "      <th>0</th>\n",
       "      <td>PS4</td>\n",
       "      <td>392.0</td>\n",
       "      <td>0.801378</td>\n",
       "      <td>1.609456</td>\n",
       "      <td>0.01</td>\n",
       "      <td>0.0600</td>\n",
       "      <td>0.200</td>\n",
       "      <td>0.7300</td>\n",
       "      <td>14.63</td>\n",
       "    </tr>\n",
       "    <tr>\n",
       "      <th>1</th>\n",
       "      <td>X360</td>\n",
       "      <td>186.0</td>\n",
       "      <td>0.735484</td>\n",
       "      <td>1.663275</td>\n",
       "      <td>0.01</td>\n",
       "      <td>0.0800</td>\n",
       "      <td>0.265</td>\n",
       "      <td>0.7950</td>\n",
       "      <td>16.27</td>\n",
       "    </tr>\n",
       "    <tr>\n",
       "      <th>2</th>\n",
       "      <td>XOne</td>\n",
       "      <td>247.0</td>\n",
       "      <td>0.645020</td>\n",
       "      <td>1.036139</td>\n",
       "      <td>0.01</td>\n",
       "      <td>0.0600</td>\n",
       "      <td>0.220</td>\n",
       "      <td>0.6850</td>\n",
       "      <td>7.39</td>\n",
       "    </tr>\n",
       "    <tr>\n",
       "      <th>3</th>\n",
       "      <td>Wii</td>\n",
       "      <td>23.0</td>\n",
       "      <td>0.593913</td>\n",
       "      <td>0.915432</td>\n",
       "      <td>0.01</td>\n",
       "      <td>0.0450</td>\n",
       "      <td>0.180</td>\n",
       "      <td>0.7550</td>\n",
       "      <td>3.58</td>\n",
       "    </tr>\n",
       "    <tr>\n",
       "      <th>4</th>\n",
       "      <td>WiiU</td>\n",
       "      <td>115.0</td>\n",
       "      <td>0.562000</td>\n",
       "      <td>1.038778</td>\n",
       "      <td>0.01</td>\n",
       "      <td>0.0600</td>\n",
       "      <td>0.200</td>\n",
       "      <td>0.5950</td>\n",
       "      <td>7.09</td>\n",
       "    </tr>\n",
       "    <tr>\n",
       "      <th>5</th>\n",
       "      <td>PS3</td>\n",
       "      <td>345.0</td>\n",
       "      <td>0.525884</td>\n",
       "      <td>1.451939</td>\n",
       "      <td>0.01</td>\n",
       "      <td>0.0400</td>\n",
       "      <td>0.150</td>\n",
       "      <td>0.5100</td>\n",
       "      <td>21.05</td>\n",
       "    </tr>\n",
       "    <tr>\n",
       "      <th>6</th>\n",
       "      <td>3DS</td>\n",
       "      <td>303.0</td>\n",
       "      <td>0.472772</td>\n",
       "      <td>1.381347</td>\n",
       "      <td>0.01</td>\n",
       "      <td>0.0400</td>\n",
       "      <td>0.090</td>\n",
       "      <td>0.2800</td>\n",
       "      <td>14.60</td>\n",
       "    </tr>\n",
       "    <tr>\n",
       "      <th>7</th>\n",
       "      <td>PC</td>\n",
       "      <td>189.0</td>\n",
       "      <td>0.208624</td>\n",
       "      <td>0.352304</td>\n",
       "      <td>0.01</td>\n",
       "      <td>0.0300</td>\n",
       "      <td>0.080</td>\n",
       "      <td>0.2300</td>\n",
       "      <td>3.05</td>\n",
       "    </tr>\n",
       "    <tr>\n",
       "      <th>8</th>\n",
       "      <td>DS</td>\n",
       "      <td>8.0</td>\n",
       "      <td>0.192500</td>\n",
       "      <td>0.172026</td>\n",
       "      <td>0.03</td>\n",
       "      <td>0.0675</td>\n",
       "      <td>0.150</td>\n",
       "      <td>0.2525</td>\n",
       "      <td>0.51</td>\n",
       "    </tr>\n",
       "    <tr>\n",
       "      <th>9</th>\n",
       "      <td>PSV</td>\n",
       "      <td>358.0</td>\n",
       "      <td>0.092151</td>\n",
       "      <td>0.153816</td>\n",
       "      <td>0.01</td>\n",
       "      <td>0.0200</td>\n",
       "      <td>0.040</td>\n",
       "      <td>0.1100</td>\n",
       "      <td>1.96</td>\n",
       "    </tr>\n",
       "    <tr>\n",
       "      <th>10</th>\n",
       "      <td>PSP</td>\n",
       "      <td>67.0</td>\n",
       "      <td>0.052239</td>\n",
       "      <td>0.059768</td>\n",
       "      <td>0.01</td>\n",
       "      <td>0.0150</td>\n",
       "      <td>0.020</td>\n",
       "      <td>0.0700</td>\n",
       "      <td>0.24</td>\n",
       "    </tr>\n",
       "  </tbody>\n",
       "</table>\n",
       "</div>"
      ],
      "text/plain": [
       "   platform  num_games  avg_sales   std_dev  min_sales      q1  median  \\\n",
       "0       PS4      392.0   0.801378  1.609456       0.01  0.0600   0.200   \n",
       "1      X360      186.0   0.735484  1.663275       0.01  0.0800   0.265   \n",
       "2      XOne      247.0   0.645020  1.036139       0.01  0.0600   0.220   \n",
       "3       Wii       23.0   0.593913  0.915432       0.01  0.0450   0.180   \n",
       "4      WiiU      115.0   0.562000  1.038778       0.01  0.0600   0.200   \n",
       "5       PS3      345.0   0.525884  1.451939       0.01  0.0400   0.150   \n",
       "6       3DS      303.0   0.472772  1.381347       0.01  0.0400   0.090   \n",
       "7        PC      189.0   0.208624  0.352304       0.01  0.0300   0.080   \n",
       "8        DS        8.0   0.192500  0.172026       0.03  0.0675   0.150   \n",
       "9       PSV      358.0   0.092151  0.153816       0.01  0.0200   0.040   \n",
       "10      PSP       67.0   0.052239  0.059768       0.01  0.0150   0.020   \n",
       "\n",
       "        q3  max_sales  \n",
       "0   0.7300      14.63  \n",
       "1   0.7950      16.27  \n",
       "2   0.6850       7.39  \n",
       "3   0.7550       3.58  \n",
       "4   0.5950       7.09  \n",
       "5   0.5100      21.05  \n",
       "6   0.2800      14.60  \n",
       "7   0.2300       3.05  \n",
       "8   0.2525       0.51  \n",
       "9   0.1100       1.96  \n",
       "10  0.0700       0.24  "
      ]
     },
     "execution_count": 31,
     "metadata": {},
     "output_type": "execute_result"
    }
   ],
   "source": [
    "# Calculate detailed statistics for each platform\n",
    "\n",
    "\n",
    "detailed_stats = df_relevant.groupby('platform')['total_sales'].describe().reset_index()\n",
    "\n",
    "# Rename columns for clarity\n",
    "detailed_stats.columns.name = None\n",
    "detailed_stats = detailed_stats.rename(columns={\n",
    "    'count': 'num_games',\n",
    "    'mean': 'avg_sales',\n",
    "    'std': 'std_dev',\n",
    "    'min': 'min_sales',\n",
    "    '25%': 'q1',\n",
    "    '50%': 'median',\n",
    "    '75%': 'q3',\n",
    "    'max': 'max_sales'\n",
    "})\n",
    "\n",
    "# Display the detailed statistics\n",
    "detailed_stats.sort_values(by='avg_sales', ascending=False).reset_index(drop=True)"
   ]
  },
  {
   "cell_type": "markdown",
   "metadata": {
    "id": "kpr3vFcpG_1q"
   },
   "source": [
    "## 3.6 Review Score Impact Analysis\n",
    "\n",
    "Select a popular platform and analyze how reviews affect sales:"
   ]
  },
  {
   "cell_type": "code",
   "execution_count": 32,
   "metadata": {
    "id": "ly_DyKUGHBAi"
   },
   "outputs": [],
   "source": [
    "# Choose a popular platform based on your previous analysis\n",
    "\n",
    "popular_platform = 'PS4'\n",
    "\n",
    "# Filter data for the chosen platform and relevant years\n",
    "df_platform = df_relevant[df_relevant['platform'] == popular_platform].copy()\n",
    "\n",
    "# Remove entries with missing critic or user scores\n",
    "df_platform = df_platform.dropna(subset=['critic_score', 'user_score'])\n",
    "\n",
    "# Ensure user_score is numeric (some values may still be non-numeric or previously missed)\n",
    "df_platform['user_score'] = pd.to_numeric(df_platform['user_score'], errors='coerce')\n",
    "df_platform = df_platform.dropna(subset=['user_score'])"
   ]
  },
  {
   "cell_type": "code",
   "execution_count": 33,
   "metadata": {
    "id": "HAqsDecvHCJ1"
   },
   "outputs": [],
   "source": [
    "# Create scatter plots for both critic and user scores"
   ]
  },
  {
   "cell_type": "code",
   "execution_count": 34,
   "metadata": {
    "id": "V5SxzosMHHCL"
   },
   "outputs": [
    {
     "data": {
      "image/png": "[encoded data removed]",
      "text/plain": [
       "<Figure size 800x600 with 1 Axes>"
      ]
     },
     "metadata": {},
     "output_type": "display_data"
    },
    {
     "data": {
      "image/png": "[encoded data removed]",
      "text/plain": [
       "<Figure size 800x600 with 1 Axes>"
      ]
     },
     "metadata": {},
     "output_type": "display_data"
    },
    {
     "data": {
      "text/plain": [
       "(0.40589480145836687, -0.03362497596528878)"
      ]
     },
     "execution_count": 34,
     "metadata": {},
     "output_type": "execute_result"
    }
   ],
   "source": [
    "# Critic Scores\n",
    "\n",
    "plt.figure(figsize=(8, 6))\n",
    "plt.scatter(df_platform['critic_score'], df_platform['total_sales'], alpha=0.7)\n",
    "plt.title('Critic Score vs Total Sales (PS4)')\n",
    "plt.xlabel('Critic Score')\n",
    "plt.ylabel('Total Sales (millions)')\n",
    "plt.grid(True)\n",
    "plt.tight_layout()\n",
    "plt.show()\n",
    "\n",
    "# User Scores\n",
    "\n",
    "plt.figure(figsize=(8, 6))\n",
    "plt.scatter(df_platform['user_score'], df_platform['total_sales'], alpha=0.7, color='orange')\n",
    "plt.title('User Score vs Total Sales (PS4)')\n",
    "plt.xlabel('User Score')\n",
    "plt.ylabel('Total Sales (millions)')\n",
    "plt.grid(True)\n",
    "plt.tight_layout()\n",
    "plt.show()\n",
    "\n",
    "# Calculate correlations\n",
    "\n",
    "critic_corr = df_platform['critic_score'].corr(df_platform['total_sales'])\n",
    "user_corr = df_platform['user_score'].corr(df_platform['total_sales'])\n",
    "\n",
    "# Display the correlation values\n",
    "critic_corr, user_corr"
   ]
  },
  {
   "cell_type": "markdown",
   "metadata": {},
   "source": [
    "<div style=\"background-color: #d4edda; color: #155724; padding: 15px; border-radius: 4px; border: 1px solid #c3e6cb;\">\n",
    "\n",
    "<b>Reviewer's comment v1:</b>\n",
    "\n",
    "Well done! Very nice scatter plots.\n"
   ]
  },
  {
   "cell_type": "markdown",
   "metadata": {
    "id": "hhLvhB8-HKk6"
   },
   "source": [
    "## 3.7 Cross-Platform Comparison\n",
    "\n",
    "Compare sales performance of games across different platforms:"
   ]
  },
  {
   "cell_type": "code",
   "execution_count": 35,
   "metadata": {
    "id": "nVdLwEw3HLwK"
   },
   "outputs": [
    {
     "data": {
      "text/html": [
       "<div>\n",
       "<style scoped>\n",
       "    .dataframe tbody tr th:only-of-type {\n",
       "        vertical-align: middle;\n",
       "    }\n",
       "\n",
       "    .dataframe tbody tr th {\n",
       "        vertical-align: top;\n",
       "    }\n",
       "\n",
       "    .dataframe thead th {\n",
       "        text-align: right;\n",
       "    }\n",
       "</style>\n",
       "<table border=\"1\" class=\"dataframe\">\n",
       "  <thead>\n",
       "    <tr style=\"text-align: right;\">\n",
       "      <th></th>\n",
       "      <th>name</th>\n",
       "      <th>platform</th>\n",
       "      <th>year_of_release</th>\n",
       "      <th>total_sales</th>\n",
       "    </tr>\n",
       "  </thead>\n",
       "  <tbody>\n",
       "    <tr>\n",
       "      <th>0</th>\n",
       "      <td>Super Mario Bros.</td>\n",
       "      <td>NES</td>\n",
       "      <td>1985</td>\n",
       "      <td>40.24</td>\n",
       "    </tr>\n",
       "    <tr>\n",
       "      <th>1</th>\n",
       "      <td>Super Mario Bros.</td>\n",
       "      <td>GB</td>\n",
       "      <td>1999</td>\n",
       "      <td>5.07</td>\n",
       "    </tr>\n",
       "    <tr>\n",
       "      <th>2</th>\n",
       "      <td>Tetris</td>\n",
       "      <td>GB</td>\n",
       "      <td>1989</td>\n",
       "      <td>30.26</td>\n",
       "    </tr>\n",
       "    <tr>\n",
       "      <th>3</th>\n",
       "      <td>Tetris</td>\n",
       "      <td>NES</td>\n",
       "      <td>1988</td>\n",
       "      <td>5.58</td>\n",
       "    </tr>\n",
       "    <tr>\n",
       "      <th>4</th>\n",
       "      <td>Grand Theft Auto V</td>\n",
       "      <td>PS3</td>\n",
       "      <td>2013</td>\n",
       "      <td>21.05</td>\n",
       "    </tr>\n",
       "    <tr>\n",
       "      <th>5</th>\n",
       "      <td>Grand Theft Auto V</td>\n",
       "      <td>X360</td>\n",
       "      <td>2013</td>\n",
       "      <td>16.27</td>\n",
       "    </tr>\n",
       "    <tr>\n",
       "      <th>6</th>\n",
       "      <td>Grand Theft Auto V</td>\n",
       "      <td>PS4</td>\n",
       "      <td>2014</td>\n",
       "      <td>12.62</td>\n",
       "    </tr>\n",
       "    <tr>\n",
       "      <th>7</th>\n",
       "      <td>Grand Theft Auto V</td>\n",
       "      <td>XOne</td>\n",
       "      <td>2014</td>\n",
       "      <td>5.47</td>\n",
       "    </tr>\n",
       "    <tr>\n",
       "      <th>8</th>\n",
       "      <td>Grand Theft Auto V</td>\n",
       "      <td>PC</td>\n",
       "      <td>2015</td>\n",
       "      <td>1.17</td>\n",
       "    </tr>\n",
       "    <tr>\n",
       "      <th>9</th>\n",
       "      <td>Grand Theft Auto: San Andreas</td>\n",
       "      <td>PS2</td>\n",
       "      <td>2004</td>\n",
       "      <td>20.81</td>\n",
       "    </tr>\n",
       "  </tbody>\n",
       "</table>\n",
       "</div>"
      ],
      "text/plain": [
       "                            name platform  year_of_release  total_sales\n",
       "0              Super Mario Bros.      NES             1985        40.24\n",
       "1              Super Mario Bros.       GB             1999         5.07\n",
       "2                         Tetris       GB             1989        30.26\n",
       "3                         Tetris      NES             1988         5.58\n",
       "4             Grand Theft Auto V      PS3             2013        21.05\n",
       "5             Grand Theft Auto V     X360             2013        16.27\n",
       "6             Grand Theft Auto V      PS4             2014        12.62\n",
       "7             Grand Theft Auto V     XOne             2014         5.47\n",
       "8             Grand Theft Auto V       PC             2015         1.17\n",
       "9  Grand Theft Auto: San Andreas      PS2             2004        20.81"
      ]
     },
     "execution_count": 35,
     "metadata": {},
     "output_type": "execute_result"
    }
   ],
   "source": [
    "# Find games released on multiple platforms\n",
    "\n",
    "# Group by 'name' and count the number of unique platforms\n",
    "multi_platform_counts = df.groupby('name')['platform'].nunique().reset_index()\n",
    "multi_platform_counts = multi_platform_counts.rename(columns={'platform': 'platform_count'})\n",
    "\n",
    "# Filter for games with more than one platform\n",
    "multi_platform_games = multi_platform_counts[multi_platform_counts['platform_count'] > 1]\n",
    "\n",
    "# Merge with the original DataFrame to get full records for those games\n",
    "df_multi_platform = df.merge(multi_platform_games[['name']], on='name', how='inner')\n",
    "\n",
    "# Display a sample of multi-platform games\n",
    "df_multi_platform[['name', 'platform', 'year_of_release', 'total_sales']].head(10)"
   ]
  },
  {
   "cell_type": "code",
   "execution_count": 36,
   "metadata": {
    "id": "ME1egJbSHM-i"
   },
   "outputs": [
    {
     "data": {
      "image/png": "[encoded data removed]",
      "text/plain": [
       "<Figure size 1600x800 with 1 Axes>"
      ]
     },
     "metadata": {},
     "output_type": "display_data"
    }
   ],
   "source": [
    "# Compare sales across platforms for these games\n",
    "# Your code here to analyze and visualize cross-platform performance\n",
    "\n",
    "# Aggregate total sales for each game-platform combination\n",
    "cross_platform_sales = df_multi_platform.groupby(['name', 'platform'])['total_sales'].sum().reset_index()\n",
    "\n",
    "# Select top multi-platform games by total sales across all platforms\n",
    "top_multi_platform_games = (\n",
    "    cross_platform_sales.groupby('name')['total_sales']\n",
    "    .sum()\n",
    "    .sort_values(ascending=False)\n",
    "    .head(10)\n",
    "    .index\n",
    ")\n",
    "\n",
    "# Filter to those top games\n",
    "top_games_data = cross_platform_sales[cross_platform_sales['name'].isin(top_multi_platform_games)]\n",
    "\n",
    "# Plot sales comparison for top multi-platform games\n",
    "plt.figure(figsize=(16, 8))\n",
    "sns.barplot(data=top_games_data, x='total_sales', y='name', hue='platform')\n",
    "plt.title('Cross-Platform Sales Comparison for Top Multi-Platform Games')\n",
    "plt.xlabel('Total Sales (millions)')\n",
    "plt.ylabel('Game Title')\n",
    "plt.legend(title='Platform')\n",
    "plt.tight_layout()\n",
    "plt.show()"
   ]
  },
  {
   "cell_type": "markdown",
   "metadata": {
    "id": "7pIIgylYHOTa"
   },
   "source": [
    "## 3.8 Genre Analysis\n",
    "\n",
    "Finally, let's examine the distribution of games by genre:"
   ]
  },
  {
   "cell_type": "code",
   "execution_count": 37,
   "metadata": {
    "id": "EMqroBuLHPZN"
   },
   "outputs": [
    {
     "data": {
      "text/html": [
       "<div>\n",
       "<style scoped>\n",
       "    .dataframe tbody tr th:only-of-type {\n",
       "        vertical-align: middle;\n",
       "    }\n",
       "\n",
       "    .dataframe tbody tr th {\n",
       "        vertical-align: top;\n",
       "    }\n",
       "\n",
       "    .dataframe thead th {\n",
       "        text-align: right;\n",
       "    }\n",
       "</style>\n",
       "<table border=\"1\" class=\"dataframe\">\n",
       "  <thead>\n",
       "    <tr style=\"text-align: right;\">\n",
       "      <th></th>\n",
       "      <th>genre</th>\n",
       "      <th>total_sales</th>\n",
       "      <th>num_games</th>\n",
       "      <th>avg_sales_per_game</th>\n",
       "    </tr>\n",
       "  </thead>\n",
       "  <tbody>\n",
       "    <tr>\n",
       "      <th>0</th>\n",
       "      <td>Action</td>\n",
       "      <td>321.87</td>\n",
       "      <td>766</td>\n",
       "      <td>0.420196</td>\n",
       "    </tr>\n",
       "    <tr>\n",
       "      <th>1</th>\n",
       "      <td>Adventure</td>\n",
       "      <td>23.64</td>\n",
       "      <td>245</td>\n",
       "      <td>0.096490</td>\n",
       "    </tr>\n",
       "    <tr>\n",
       "      <th>2</th>\n",
       "      <td>Fighting</td>\n",
       "      <td>35.31</td>\n",
       "      <td>80</td>\n",
       "      <td>0.441375</td>\n",
       "    </tr>\n",
       "    <tr>\n",
       "      <th>3</th>\n",
       "      <td>Misc</td>\n",
       "      <td>62.82</td>\n",
       "      <td>155</td>\n",
       "      <td>0.405290</td>\n",
       "    </tr>\n",
       "    <tr>\n",
       "      <th>4</th>\n",
       "      <td>Platform</td>\n",
       "      <td>42.63</td>\n",
       "      <td>74</td>\n",
       "      <td>0.576081</td>\n",
       "    </tr>\n",
       "    <tr>\n",
       "      <th>5</th>\n",
       "      <td>Puzzle</td>\n",
       "      <td>3.17</td>\n",
       "      <td>17</td>\n",
       "      <td>0.186471</td>\n",
       "    </tr>\n",
       "    <tr>\n",
       "      <th>6</th>\n",
       "      <td>Racing</td>\n",
       "      <td>39.89</td>\n",
       "      <td>85</td>\n",
       "      <td>0.469294</td>\n",
       "    </tr>\n",
       "    <tr>\n",
       "      <th>7</th>\n",
       "      <td>Role-Playing</td>\n",
       "      <td>145.89</td>\n",
       "      <td>292</td>\n",
       "      <td>0.499623</td>\n",
       "    </tr>\n",
       "    <tr>\n",
       "      <th>8</th>\n",
       "      <td>Shooter</td>\n",
       "      <td>232.98</td>\n",
       "      <td>187</td>\n",
       "      <td>1.245882</td>\n",
       "    </tr>\n",
       "    <tr>\n",
       "      <th>9</th>\n",
       "      <td>Simulation</td>\n",
       "      <td>21.76</td>\n",
       "      <td>62</td>\n",
       "      <td>0.350968</td>\n",
       "    </tr>\n",
       "  </tbody>\n",
       "</table>\n",
       "</div>"
      ],
      "text/plain": [
       "          genre  total_sales  num_games  avg_sales_per_game\n",
       "0        Action       321.87        766            0.420196\n",
       "1     Adventure        23.64        245            0.096490\n",
       "2      Fighting        35.31         80            0.441375\n",
       "3          Misc        62.82        155            0.405290\n",
       "4      Platform        42.63         74            0.576081\n",
       "5        Puzzle         3.17         17            0.186471\n",
       "6        Racing        39.89         85            0.469294\n",
       "7  Role-Playing       145.89        292            0.499623\n",
       "8       Shooter       232.98        187            1.245882\n",
       "9    Simulation        21.76         62            0.350968"
      ]
     },
     "execution_count": 37,
     "metadata": {},
     "output_type": "execute_result"
    }
   ],
   "source": [
    "# Analyze genre performance\n",
    "\n",
    "genre_performance = df_relevant.groupby('genre').agg(\n",
    "    total_sales=('total_sales', 'sum'),\n",
    "    num_games=('name', 'count'),\n",
    "    avg_sales_per_game=('total_sales', 'mean')\n",
    ").reset_index()\n",
    "\n",
    "# Show the top genres\n",
    "genre_performance.head(10)"
   ]
  },
  {
   "cell_type": "code",
   "execution_count": 38,
   "metadata": {
    "id": "1lOBrjpDHQbq"
   },
   "outputs": [
    {
     "data": {
      "text/html": [
       "<div>\n",
       "<style scoped>\n",
       "    .dataframe tbody tr th:only-of-type {\n",
       "        vertical-align: middle;\n",
       "    }\n",
       "\n",
       "    .dataframe tbody tr th {\n",
       "        vertical-align: top;\n",
       "    }\n",
       "\n",
       "    .dataframe thead th {\n",
       "        text-align: right;\n",
       "    }\n",
       "</style>\n",
       "<table border=\"1\" class=\"dataframe\">\n",
       "  <thead>\n",
       "    <tr style=\"text-align: right;\">\n",
       "      <th></th>\n",
       "      <th>genre</th>\n",
       "      <th>total_sales</th>\n",
       "      <th>num_games</th>\n",
       "      <th>avg_sales_per_game</th>\n",
       "    </tr>\n",
       "  </thead>\n",
       "  <tbody>\n",
       "    <tr>\n",
       "      <th>0</th>\n",
       "      <td>Action</td>\n",
       "      <td>321.87</td>\n",
       "      <td>766</td>\n",
       "      <td>0.420196</td>\n",
       "    </tr>\n",
       "    <tr>\n",
       "      <th>1</th>\n",
       "      <td>Shooter</td>\n",
       "      <td>232.98</td>\n",
       "      <td>187</td>\n",
       "      <td>1.245882</td>\n",
       "    </tr>\n",
       "    <tr>\n",
       "      <th>2</th>\n",
       "      <td>Sports</td>\n",
       "      <td>150.65</td>\n",
       "      <td>214</td>\n",
       "      <td>0.703972</td>\n",
       "    </tr>\n",
       "    <tr>\n",
       "      <th>3</th>\n",
       "      <td>Role-Playing</td>\n",
       "      <td>145.89</td>\n",
       "      <td>292</td>\n",
       "      <td>0.499623</td>\n",
       "    </tr>\n",
       "    <tr>\n",
       "      <th>4</th>\n",
       "      <td>Misc</td>\n",
       "      <td>62.82</td>\n",
       "      <td>155</td>\n",
       "      <td>0.405290</td>\n",
       "    </tr>\n",
       "    <tr>\n",
       "      <th>5</th>\n",
       "      <td>Platform</td>\n",
       "      <td>42.63</td>\n",
       "      <td>74</td>\n",
       "      <td>0.576081</td>\n",
       "    </tr>\n",
       "    <tr>\n",
       "      <th>6</th>\n",
       "      <td>Racing</td>\n",
       "      <td>39.89</td>\n",
       "      <td>85</td>\n",
       "      <td>0.469294</td>\n",
       "    </tr>\n",
       "    <tr>\n",
       "      <th>7</th>\n",
       "      <td>Fighting</td>\n",
       "      <td>35.31</td>\n",
       "      <td>80</td>\n",
       "      <td>0.441375</td>\n",
       "    </tr>\n",
       "    <tr>\n",
       "      <th>8</th>\n",
       "      <td>Adventure</td>\n",
       "      <td>23.64</td>\n",
       "      <td>245</td>\n",
       "      <td>0.096490</td>\n",
       "    </tr>\n",
       "    <tr>\n",
       "      <th>9</th>\n",
       "      <td>Simulation</td>\n",
       "      <td>21.76</td>\n",
       "      <td>62</td>\n",
       "      <td>0.350968</td>\n",
       "    </tr>\n",
       "    <tr>\n",
       "      <th>10</th>\n",
       "      <td>Strategy</td>\n",
       "      <td>10.08</td>\n",
       "      <td>56</td>\n",
       "      <td>0.180000</td>\n",
       "    </tr>\n",
       "    <tr>\n",
       "      <th>11</th>\n",
       "      <td>Puzzle</td>\n",
       "      <td>3.17</td>\n",
       "      <td>17</td>\n",
       "      <td>0.186471</td>\n",
       "    </tr>\n",
       "  </tbody>\n",
       "</table>\n",
       "</div>"
      ],
      "text/plain": [
       "           genre  total_sales  num_games  avg_sales_per_game\n",
       "0         Action       321.87        766            0.420196\n",
       "1        Shooter       232.98        187            1.245882\n",
       "2         Sports       150.65        214            0.703972\n",
       "3   Role-Playing       145.89        292            0.499623\n",
       "4           Misc        62.82        155            0.405290\n",
       "5       Platform        42.63         74            0.576081\n",
       "6         Racing        39.89         85            0.469294\n",
       "7       Fighting        35.31         80            0.441375\n",
       "8      Adventure        23.64        245            0.096490\n",
       "9     Simulation        21.76         62            0.350968\n",
       "10      Strategy        10.08         56            0.180000\n",
       "11        Puzzle         3.17         17            0.186471"
      ]
     },
     "execution_count": 38,
     "metadata": {},
     "output_type": "execute_result"
    }
   ],
   "source": [
    "# Sort genres by total sales\n",
    "\n",
    "sorted_genres = genre_performance.sort_values(by='total_sales', ascending=False).reset_index(drop=True)\n",
    "\n",
    "# Display sorted genres\n",
    "sorted_genres"
   ]
  },
  {
   "cell_type": "code",
   "execution_count": 39,
   "metadata": {
    "id": "im6TIeOoHRbz"
   },
   "outputs": [
    {
     "data": {
      "image/png": "[encoded data removed]",
      "text/plain": [
       "<Figure size 1200x600 with 1 Axes>"
      ]
     },
     "metadata": {},
     "output_type": "display_data"
    }
   ],
   "source": [
    "# Visualize genre distribution\n",
    "\n",
    "plt.figure(figsize=(12, 6))\n",
    "sns.barplot(data=sorted_genres, x='total_sales', y='genre', palette='viridis')\n",
    "plt.title('Total Sales by Genre (2013–2016)')\n",
    "plt.xlabel('Total Sales (millions)')\n",
    "plt.ylabel('Genre')\n",
    "plt.tight_layout()\n",
    "plt.show()"
   ]
  },
  {
   "cell_type": "code",
   "execution_count": 40,
   "metadata": {
    "id": "B_f_MP3THSX7"
   },
   "outputs": [
    {
     "data": {
      "text/html": [
       "<div>\n",
       "<style scoped>\n",
       "    .dataframe tbody tr th:only-of-type {\n",
       "        vertical-align: middle;\n",
       "    }\n",
       "\n",
       "    .dataframe tbody tr th {\n",
       "        vertical-align: top;\n",
       "    }\n",
       "\n",
       "    .dataframe thead th {\n",
       "        text-align: right;\n",
       "    }\n",
       "</style>\n",
       "<table border=\"1\" class=\"dataframe\">\n",
       "  <thead>\n",
       "    <tr style=\"text-align: right;\">\n",
       "      <th></th>\n",
       "      <th>genre</th>\n",
       "      <th>total_sales</th>\n",
       "      <th>market_share_%</th>\n",
       "    </tr>\n",
       "  </thead>\n",
       "  <tbody>\n",
       "    <tr>\n",
       "      <th>0</th>\n",
       "      <td>Action</td>\n",
       "      <td>321.87</td>\n",
       "      <td>29.510677</td>\n",
       "    </tr>\n",
       "    <tr>\n",
       "      <th>1</th>\n",
       "      <td>Shooter</td>\n",
       "      <td>232.98</td>\n",
       "      <td>21.360790</td>\n",
       "    </tr>\n",
       "    <tr>\n",
       "      <th>2</th>\n",
       "      <td>Sports</td>\n",
       "      <td>150.65</td>\n",
       "      <td>13.812357</td>\n",
       "    </tr>\n",
       "    <tr>\n",
       "      <th>3</th>\n",
       "      <td>Role-Playing</td>\n",
       "      <td>145.89</td>\n",
       "      <td>13.375936</td>\n",
       "    </tr>\n",
       "    <tr>\n",
       "      <th>4</th>\n",
       "      <td>Misc</td>\n",
       "      <td>62.82</td>\n",
       "      <td>5.759657</td>\n",
       "    </tr>\n",
       "    <tr>\n",
       "      <th>5</th>\n",
       "      <td>Platform</td>\n",
       "      <td>42.63</td>\n",
       "      <td>3.908535</td>\n",
       "    </tr>\n",
       "    <tr>\n",
       "      <th>6</th>\n",
       "      <td>Racing</td>\n",
       "      <td>39.89</td>\n",
       "      <td>3.657318</td>\n",
       "    </tr>\n",
       "    <tr>\n",
       "      <th>7</th>\n",
       "      <td>Fighting</td>\n",
       "      <td>35.31</td>\n",
       "      <td>3.237400</td>\n",
       "    </tr>\n",
       "    <tr>\n",
       "      <th>8</th>\n",
       "      <td>Adventure</td>\n",
       "      <td>23.64</td>\n",
       "      <td>2.167435</td>\n",
       "    </tr>\n",
       "    <tr>\n",
       "      <th>9</th>\n",
       "      <td>Simulation</td>\n",
       "      <td>21.76</td>\n",
       "      <td>1.995067</td>\n",
       "    </tr>\n",
       "    <tr>\n",
       "      <th>10</th>\n",
       "      <td>Strategy</td>\n",
       "      <td>10.08</td>\n",
       "      <td>0.924186</td>\n",
       "    </tr>\n",
       "    <tr>\n",
       "      <th>11</th>\n",
       "      <td>Puzzle</td>\n",
       "      <td>3.17</td>\n",
       "      <td>0.290642</td>\n",
       "    </tr>\n",
       "  </tbody>\n",
       "</table>\n",
       "</div>"
      ],
      "text/plain": [
       "           genre  total_sales  market_share_%\n",
       "0         Action       321.87       29.510677\n",
       "1        Shooter       232.98       21.360790\n",
       "2         Sports       150.65       13.812357\n",
       "3   Role-Playing       145.89       13.375936\n",
       "4           Misc        62.82        5.759657\n",
       "5       Platform        42.63        3.908535\n",
       "6         Racing        39.89        3.657318\n",
       "7       Fighting        35.31        3.237400\n",
       "8      Adventure        23.64        2.167435\n",
       "9     Simulation        21.76        1.995067\n",
       "10      Strategy        10.08        0.924186\n",
       "11        Puzzle         3.17        0.290642"
      ]
     },
     "execution_count": 40,
     "metadata": {},
     "output_type": "execute_result"
    }
   ],
   "source": [
    "# Calculate market share for each genre\n",
    "\n",
    "total_sales_all_genres = sorted_genres['total_sales'].sum()\n",
    "sorted_genres['market_share_%'] = (sorted_genres['total_sales'] / total_sales_all_genres) * 100\n",
    "\n",
    "# Display with market share\n",
    "sorted_genres[['genre', 'total_sales', 'market_share_%']].sort_values(by='market_share_%', ascending=False).reset_index(drop=True)"
   ]
  },
  {
   "cell_type": "markdown",
   "metadata": {
    "id": "1tSmB_lEHTrj"
   },
   "source": [
    "### Key Questions for Genre Analysis:\n",
    "- Which genres consistently perform well?\n",
    "- Are there any genres showing recent growth or decline?\n",
    "- How does the average performance vary across genres?"
   ]
  },
  {
   "cell_type": "markdown",
   "metadata": {},
   "source": [
    "Action leads in total sales, while Shooter dominates in average performance per title.\n",
    "\n",
    "\n",
    "Genres in Decline:\n",
    "\n",
    "Action: from 122.51M → 30.11M\n",
    "\n",
    "Shooter: 62.04M → 38.22M\n",
    "\n",
    "Sports: 41.17M → 23.49M\n",
    "\n",
    "Misc, Platform, Racing, Simulation: all saw sharp drop-offs\n",
    "\n",
    "\n",
    "Genres Holding or Slightly Growing:\n",
    "\n",
    "RPG (Role-Playing): Peaked in 2014, softer decline after\n",
    "\n",
    "Adventure: Low but relatively stable\n",
    "\n",
    "Fighting: Bounced up in 2014 before falling again\n",
    "\n",
    "\n",
    "Shooter games lead with an impressive average — driven by blockbuster franchises like Call of Duty and Battlefield.\n",
    "\n",
    "Adventure, Puzzle, and Strategy games tend to underperform on average — often more niche or indie-focused.\n",
    "\n",
    "Sports and Platformers also show strong, consistent performance."
   ]
  },
  {
   "cell_type": "markdown",
   "metadata": {},
   "source": [
    "<div style=\"background-color: #d4edda; color: #155724; padding: 15px; border-radius: 4px; border: 1px solid #c3e6cb;\">\n",
    "\n",
    "<b>Reviewer's comment v1:</b>\n",
    "    \n",
    "Great evaluation! This could be a valuable insight for a store manager."
   ]
  },
  {
   "cell_type": "markdown",
   "metadata": {
    "id": "ktkaib-aHbPy"
   },
   "source": [
    "# Step 4: Regional Market Analysis and User Profiles\n",
    "\n",
    "In this section, we will analyze the gaming market characteristics across three major regions: North America (NA), Europe (EU), and Japan (JP). Our analysis will focus on platform preferences, genre popularity, and the impact of ESRB ratings in each region.\n",
    "\n",
    "## 4.1 Regional Platform Analysis\n",
    "\n",
    "Let's begin by examining platform performance across different regions:"
   ]
  },
  {
   "cell_type": "code",
   "execution_count": 41,
   "metadata": {
    "id": "MTA3QH6OHxMR"
   },
   "outputs": [],
   "source": [
    "# Function to analyze platform performance by region\n",
    "def analyze_platform_performance_by_region(df, region_col):\n",
    "    platform_region_sales = df.groupby('platform')[region_col].sum().reset_index()\n",
    "    platform_region_sales = platform_region_sales.sort_values(by=region_col, ascending=False).reset_index(drop=True)\n",
    "    return platform_region_sales\n"
   ]
  },
  {
   "cell_type": "code",
   "execution_count": 42,
   "metadata": {
    "id": "4kfm3Cd6HzAs"
   },
   "outputs": [
    {
     "data": {
      "text/plain": [
       "(   platform  na_sales\n",
       " 0       PS4    108.74\n",
       " 1      XOne     93.12\n",
       " 2      X360     81.66\n",
       " 3       PS3     63.50\n",
       " 4       3DS     38.20\n",
       " 5      WiiU     29.21\n",
       " 6        PC     11.11\n",
       " 7       Wii      6.56\n",
       " 8       PSV      5.04\n",
       " 9        DS      0.57\n",
       " 10      PSP      0.00,\n",
       "    platform  eu_sales\n",
       " 0       PS4    141.09\n",
       " 1       PS3     67.81\n",
       " 2      XOne     51.59\n",
       " 3      X360     42.52\n",
       " 4       3DS     30.96\n",
       " 5        PC     25.36\n",
       " 6      WiiU     19.85\n",
       " 7       PSV      6.10\n",
       " 8       Wii      5.93\n",
       " 9        DS      0.85\n",
       " 10      PSP      0.17,\n",
       "    platform  jp_sales\n",
       " 0       3DS     67.81\n",
       " 1       PS3     23.35\n",
       " 2       PSV     18.59\n",
       " 3       PS4     15.96\n",
       " 4      WiiU     10.88\n",
       " 5       PSP      3.29\n",
       " 6      X360      0.51\n",
       " 7      XOne      0.34\n",
       " 8       Wii      0.05\n",
       " 9        DS      0.00\n",
       " 10       PC      0.00)"
      ]
     },
     "execution_count": 42,
     "metadata": {},
     "output_type": "execute_result"
    }
   ],
   "source": [
    "# Analyze each region\n",
    "na_platform_sales = analyze_platform_performance_by_region(df_relevant, 'na_sales')\n",
    "eu_platform_sales = analyze_platform_performance_by_region(df_relevant, 'eu_sales')\n",
    "jp_platform_sales = analyze_platform_performance_by_region(df_relevant, 'jp_sales')\n",
    "\n",
    "na_platform_sales, eu_platform_sales, jp_platform_sales"
   ]
  },
  {
   "cell_type": "markdown",
   "metadata": {
    "id": "EA8GXFT8H1Lz"
   },
   "source": [
    "### Cross-Regional Platform Comparison\n",
    "\n",
    "Let's create a comparative analysis of platform performance across regions:"
   ]
  },
  {
   "cell_type": "code",
   "execution_count": 43,
   "metadata": {
    "id": "1pA08dxLH4ED"
   },
   "outputs": [
    {
     "data": {
      "text/html": [
       "<div>\n",
       "<style scoped>\n",
       "    .dataframe tbody tr th:only-of-type {\n",
       "        vertical-align: middle;\n",
       "    }\n",
       "\n",
       "    .dataframe tbody tr th {\n",
       "        vertical-align: top;\n",
       "    }\n",
       "\n",
       "    .dataframe thead th {\n",
       "        text-align: right;\n",
       "    }\n",
       "</style>\n",
       "<table border=\"1\" class=\"dataframe\">\n",
       "  <thead>\n",
       "    <tr style=\"text-align: right;\">\n",
       "      <th></th>\n",
       "      <th>platform</th>\n",
       "      <th>na_sales</th>\n",
       "      <th>eu_sales</th>\n",
       "      <th>jp_sales</th>\n",
       "      <th>total_sales</th>\n",
       "    </tr>\n",
       "  </thead>\n",
       "  <tbody>\n",
       "    <tr>\n",
       "      <th>0</th>\n",
       "      <td>PS4</td>\n",
       "      <td>108.74</td>\n",
       "      <td>141.09</td>\n",
       "      <td>15.96</td>\n",
       "      <td>265.79</td>\n",
       "    </tr>\n",
       "    <tr>\n",
       "      <th>1</th>\n",
       "      <td>PS3</td>\n",
       "      <td>63.50</td>\n",
       "      <td>67.81</td>\n",
       "      <td>23.35</td>\n",
       "      <td>154.66</td>\n",
       "    </tr>\n",
       "    <tr>\n",
       "      <th>2</th>\n",
       "      <td>XOne</td>\n",
       "      <td>93.12</td>\n",
       "      <td>51.59</td>\n",
       "      <td>0.34</td>\n",
       "      <td>145.05</td>\n",
       "    </tr>\n",
       "    <tr>\n",
       "      <th>3</th>\n",
       "      <td>3DS</td>\n",
       "      <td>38.20</td>\n",
       "      <td>30.96</td>\n",
       "      <td>67.81</td>\n",
       "      <td>136.97</td>\n",
       "    </tr>\n",
       "    <tr>\n",
       "      <th>4</th>\n",
       "      <td>X360</td>\n",
       "      <td>81.66</td>\n",
       "      <td>42.52</td>\n",
       "      <td>0.51</td>\n",
       "      <td>124.69</td>\n",
       "    </tr>\n",
       "    <tr>\n",
       "      <th>5</th>\n",
       "      <td>WiiU</td>\n",
       "      <td>29.21</td>\n",
       "      <td>19.85</td>\n",
       "      <td>10.88</td>\n",
       "      <td>59.94</td>\n",
       "    </tr>\n",
       "    <tr>\n",
       "      <th>6</th>\n",
       "      <td>PC</td>\n",
       "      <td>11.11</td>\n",
       "      <td>25.36</td>\n",
       "      <td>0.00</td>\n",
       "      <td>36.47</td>\n",
       "    </tr>\n",
       "    <tr>\n",
       "      <th>7</th>\n",
       "      <td>PSV</td>\n",
       "      <td>5.04</td>\n",
       "      <td>6.10</td>\n",
       "      <td>18.59</td>\n",
       "      <td>29.73</td>\n",
       "    </tr>\n",
       "    <tr>\n",
       "      <th>8</th>\n",
       "      <td>Wii</td>\n",
       "      <td>6.56</td>\n",
       "      <td>5.93</td>\n",
       "      <td>0.05</td>\n",
       "      <td>12.54</td>\n",
       "    </tr>\n",
       "    <tr>\n",
       "      <th>9</th>\n",
       "      <td>PSP</td>\n",
       "      <td>0.00</td>\n",
       "      <td>0.17</td>\n",
       "      <td>3.29</td>\n",
       "      <td>3.46</td>\n",
       "    </tr>\n",
       "    <tr>\n",
       "      <th>10</th>\n",
       "      <td>DS</td>\n",
       "      <td>0.57</td>\n",
       "      <td>0.85</td>\n",
       "      <td>0.00</td>\n",
       "      <td>1.42</td>\n",
       "    </tr>\n",
       "  </tbody>\n",
       "</table>\n",
       "</div>"
      ],
      "text/plain": [
       "   platform  na_sales  eu_sales  jp_sales  total_sales\n",
       "0       PS4    108.74    141.09     15.96       265.79\n",
       "1       PS3     63.50     67.81     23.35       154.66\n",
       "2      XOne     93.12     51.59      0.34       145.05\n",
       "3       3DS     38.20     30.96     67.81       136.97\n",
       "4      X360     81.66     42.52      0.51       124.69\n",
       "5      WiiU     29.21     19.85     10.88        59.94\n",
       "6        PC     11.11     25.36      0.00        36.47\n",
       "7       PSV      5.04      6.10     18.59        29.73\n",
       "8       Wii      6.56      5.93      0.05        12.54\n",
       "9       PSP      0.00      0.17      3.29         3.46\n",
       "10       DS      0.57      0.85      0.00         1.42"
      ]
     },
     "execution_count": 43,
     "metadata": {},
     "output_type": "execute_result"
    }
   ],
   "source": [
    "# Create a comparative platform analysis\n",
    "\n",
    "# Merge regional platform sales into one dataframe for comparison\n",
    "platform_comparison = na_platform_sales.merge(eu_platform_sales, on='platform', how='outer')\n",
    "platform_comparison = platform_comparison.merge(jp_platform_sales, on='platform', how='outer')\n",
    "\n",
    "# Replace any missing values with 0 (in case any platform didn't appear in a region)\n",
    "platform_comparison.fillna(0, inplace=True)\n",
    "\n",
    "# Calculate total global sales for these regions combined\n",
    "platform_comparison['total_sales'] = platform_comparison['na_sales'] + platform_comparison['eu_sales'] + platform_comparison['jp_sales']\n",
    "\n",
    "# Sort by total sales for clarity\n",
    "platform_comparison = platform_comparison.sort_values(by='total_sales', ascending=False).reset_index(drop=True)\n",
    "\n",
    "platform_comparison"
   ]
  },
  {
   "cell_type": "code",
   "execution_count": 44,
   "metadata": {
    "id": "8tz6_xe8H5Hj"
   },
   "outputs": [
    {
     "data": {
      "image/png": "[encoded data removed]",
      "text/plain": [
       "<Figure size 1200x600 with 1 Axes>"
      ]
     },
     "metadata": {},
     "output_type": "display_data"
    }
   ],
   "source": [
    "# Visualize cross-regional comparison for top platforms\n",
    "\n",
    "# Select top 5 platforms by total sales\n",
    "top_platforms = platform_comparison.head(5)\n",
    "\n",
    "# Prepare data for stacked bar plot\n",
    "top_platforms_melted = top_platforms.melt(\n",
    "    id_vars=['platform'], \n",
    "    value_vars=['na_sales', 'eu_sales', 'jp_sales'],\n",
    "    var_name='region', \n",
    "    value_name='sales'\n",
    ")\n",
    "top_platforms_melted['region'] = top_platforms_melted['region'].map({\n",
    "    'na_sales': 'North America',\n",
    "    'eu_sales': 'Europe',\n",
    "    'jp_sales': 'Japan'\n",
    "})\n",
    "\n",
    "# Plot\n",
    "plt.figure(figsize=(12, 6))\n",
    "sns.barplot(data=top_platforms_melted, x='platform', y='sales', hue='region')\n",
    "plt.title('Cross-Regional Sales Comparison for Top Platforms (2013–2016)')\n",
    "plt.xlabel('Platform')\n",
    "plt.ylabel('Sales (millions)')\n",
    "plt.legend(title='Region')\n",
    "plt.tight_layout()\n",
    "plt.show()"
   ]
  },
  {
   "cell_type": "markdown",
   "metadata": {
    "id": "7LUOIUpAH6ac"
   },
   "source": [
    "## 4.2 Regional Genre Analysis\n",
    "\n",
    "Now let's examine genre preferences across regions:"
   ]
  },
  {
   "cell_type": "code",
   "execution_count": 45,
   "metadata": {
    "id": "cTQ9P-eLH7rD"
   },
   "outputs": [],
   "source": [
    "# Function to analyze genre performance by region\n",
    "\n",
    "def analyze_genre_performance(df, region_col):\n",
    "    genre_sales = df.groupby('genre')[region_col].sum().reset_index()\n",
    "    genre_sales = genre_sales.sort_values(by=region_col, ascending=False).reset_index(drop=True)\n",
    "    return genre_sales"
   ]
  },
  {
   "cell_type": "markdown",
   "metadata": {
    "id": "5HxLhvdWH-QD"
   },
   "source": [
    "### Cross-Regional Genre Comparison\n",
    "\n",
    "Let's compare genre preferences across regions:"
   ]
  },
  {
   "cell_type": "code",
   "execution_count": 46,
   "metadata": {
    "id": "GnkNJ3E2H_3j"
   },
   "outputs": [
    {
     "data": {
      "text/html": [
       "<div>\n",
       "<style scoped>\n",
       "    .dataframe tbody tr th:only-of-type {\n",
       "        vertical-align: middle;\n",
       "    }\n",
       "\n",
       "    .dataframe tbody tr th {\n",
       "        vertical-align: top;\n",
       "    }\n",
       "\n",
       "    .dataframe thead th {\n",
       "        text-align: right;\n",
       "    }\n",
       "</style>\n",
       "<table border=\"1\" class=\"dataframe\">\n",
       "  <thead>\n",
       "    <tr style=\"text-align: right;\">\n",
       "      <th></th>\n",
       "      <th>genre</th>\n",
       "      <th>na_sales</th>\n",
       "      <th>eu_sales</th>\n",
       "      <th>jp_sales</th>\n",
       "      <th>total_sales</th>\n",
       "    </tr>\n",
       "  </thead>\n",
       "  <tbody>\n",
       "    <tr>\n",
       "      <th>0</th>\n",
       "      <td>Action</td>\n",
       "      <td>126.05</td>\n",
       "      <td>118.13</td>\n",
       "      <td>40.49</td>\n",
       "      <td>284.67</td>\n",
       "    </tr>\n",
       "    <tr>\n",
       "      <th>1</th>\n",
       "      <td>Shooter</td>\n",
       "      <td>109.74</td>\n",
       "      <td>87.86</td>\n",
       "      <td>6.61</td>\n",
       "      <td>204.21</td>\n",
       "    </tr>\n",
       "    <tr>\n",
       "      <th>2</th>\n",
       "      <td>Role-Playing</td>\n",
       "      <td>46.40</td>\n",
       "      <td>36.97</td>\n",
       "      <td>51.04</td>\n",
       "      <td>134.41</td>\n",
       "    </tr>\n",
       "    <tr>\n",
       "      <th>3</th>\n",
       "      <td>Sports</td>\n",
       "      <td>65.27</td>\n",
       "      <td>60.52</td>\n",
       "      <td>5.41</td>\n",
       "      <td>131.20</td>\n",
       "    </tr>\n",
       "    <tr>\n",
       "      <th>4</th>\n",
       "      <td>Misc</td>\n",
       "      <td>27.49</td>\n",
       "      <td>20.04</td>\n",
       "      <td>9.20</td>\n",
       "      <td>56.73</td>\n",
       "    </tr>\n",
       "    <tr>\n",
       "      <th>5</th>\n",
       "      <td>Platform</td>\n",
       "      <td>18.14</td>\n",
       "      <td>15.58</td>\n",
       "      <td>4.79</td>\n",
       "      <td>38.51</td>\n",
       "    </tr>\n",
       "    <tr>\n",
       "      <th>6</th>\n",
       "      <td>Racing</td>\n",
       "      <td>12.96</td>\n",
       "      <td>20.19</td>\n",
       "      <td>2.30</td>\n",
       "      <td>35.45</td>\n",
       "    </tr>\n",
       "    <tr>\n",
       "      <th>7</th>\n",
       "      <td>Fighting</td>\n",
       "      <td>15.55</td>\n",
       "      <td>8.55</td>\n",
       "      <td>7.65</td>\n",
       "      <td>31.75</td>\n",
       "    </tr>\n",
       "    <tr>\n",
       "      <th>8</th>\n",
       "      <td>Adventure</td>\n",
       "      <td>7.14</td>\n",
       "      <td>8.25</td>\n",
       "      <td>5.82</td>\n",
       "      <td>21.21</td>\n",
       "    </tr>\n",
       "    <tr>\n",
       "      <th>9</th>\n",
       "      <td>Simulation</td>\n",
       "      <td>4.86</td>\n",
       "      <td>10.92</td>\n",
       "      <td>4.52</td>\n",
       "      <td>20.30</td>\n",
       "    </tr>\n",
       "    <tr>\n",
       "      <th>10</th>\n",
       "      <td>Strategy</td>\n",
       "      <td>3.28</td>\n",
       "      <td>4.22</td>\n",
       "      <td>1.77</td>\n",
       "      <td>9.27</td>\n",
       "    </tr>\n",
       "    <tr>\n",
       "      <th>11</th>\n",
       "      <td>Puzzle</td>\n",
       "      <td>0.83</td>\n",
       "      <td>1.00</td>\n",
       "      <td>1.18</td>\n",
       "      <td>3.01</td>\n",
       "    </tr>\n",
       "  </tbody>\n",
       "</table>\n",
       "</div>"
      ],
      "text/plain": [
       "           genre  na_sales  eu_sales  jp_sales  total_sales\n",
       "0         Action    126.05    118.13     40.49       284.67\n",
       "1        Shooter    109.74     87.86      6.61       204.21\n",
       "2   Role-Playing     46.40     36.97     51.04       134.41\n",
       "3         Sports     65.27     60.52      5.41       131.20\n",
       "4           Misc     27.49     20.04      9.20        56.73\n",
       "5       Platform     18.14     15.58      4.79        38.51\n",
       "6         Racing     12.96     20.19      2.30        35.45\n",
       "7       Fighting     15.55      8.55      7.65        31.75\n",
       "8      Adventure      7.14      8.25      5.82        21.21\n",
       "9     Simulation      4.86     10.92      4.52        20.30\n",
       "10      Strategy      3.28      4.22      1.77         9.27\n",
       "11        Puzzle      0.83      1.00      1.18         3.01"
      ]
     },
     "execution_count": 46,
     "metadata": {},
     "output_type": "execute_result"
    }
   ],
   "source": [
    "# Create a comparative genre analysis\n",
    "\n",
    "# Example: run for all regions again using this function\n",
    "na_genre_sales = analyze_genre_performance(df_relevant, 'na_sales')\n",
    "eu_genre_sales = analyze_genre_performance(df_relevant, 'eu_sales')\n",
    "jp_genre_sales = analyze_genre_performance(df_relevant, 'jp_sales')\n",
    "\n",
    "# Merge the results for combined regional comparison\n",
    "genre_comparison = na_genre_sales.merge(eu_genre_sales, on='genre', how='outer', suffixes=('_na', '_eu'))\n",
    "genre_comparison = genre_comparison.merge(jp_genre_sales, on='genre', how='outer')\n",
    "genre_comparison.rename(columns={'jp_sales': 'jp_sales'}, inplace=True)\n",
    "genre_comparison.fillna(0, inplace=True)\n",
    "genre_comparison['total_sales'] = genre_comparison['na_sales'] + genre_comparison['eu_sales'] + genre_comparison['jp_sales']\n",
    "genre_comparison = genre_comparison.sort_values(by='total_sales', ascending=False).reset_index(drop=True)\n",
    "\n",
    "# Display the updated genre comparison\n",
    "genre_comparison"
   ]
  },
  {
   "cell_type": "markdown",
   "metadata": {
    "id": "yj44c5ZWIBkr"
   },
   "source": [
    "## 4.3 ESRB Rating Impact Analysis\n",
    "\n",
    "Finally, let's examine how ESRB ratings affect sales in each region:"
   ]
  },
  {
   "cell_type": "code",
   "execution_count": 47,
   "metadata": {
    "id": "BQEvewWVICkr"
   },
   "outputs": [],
   "source": [
    "# Function to analyze ESRB rating impact\n",
    "\n",
    "def analyze_esrb_performance(df, region_col):\n",
    "    esrb_sales = df.groupby('rating')[region_col].sum().reset_index()\n",
    "    esrb_sales = esrb_sales.sort_values(by=region_col, ascending=False).reset_index(drop=True)\n",
    "    return esrb_sales"
   ]
  },
  {
   "cell_type": "code",
   "execution_count": 48,
   "metadata": {
    "id": "JwjXinv5IDp7"
   },
   "outputs": [
    {
     "data": {
      "text/html": [
       "<div>\n",
       "<style scoped>\n",
       "    .dataframe tbody tr th:only-of-type {\n",
       "        vertical-align: middle;\n",
       "    }\n",
       "\n",
       "    .dataframe tbody tr th {\n",
       "        vertical-align: top;\n",
       "    }\n",
       "\n",
       "    .dataframe thead th {\n",
       "        text-align: right;\n",
       "    }\n",
       "</style>\n",
       "<table border=\"1\" class=\"dataframe\">\n",
       "  <thead>\n",
       "    <tr style=\"text-align: right;\">\n",
       "      <th></th>\n",
       "      <th>rating</th>\n",
       "      <th>na_sales</th>\n",
       "      <th>eu_sales</th>\n",
       "      <th>jp_sales</th>\n",
       "      <th>total_sales</th>\n",
       "    </tr>\n",
       "  </thead>\n",
       "  <tbody>\n",
       "    <tr>\n",
       "      <th>0</th>\n",
       "      <td>M</td>\n",
       "      <td>165.21</td>\n",
       "      <td>145.32</td>\n",
       "      <td>14.11</td>\n",
       "      <td>324.64</td>\n",
       "    </tr>\n",
       "    <tr>\n",
       "      <th>1</th>\n",
       "      <td>Unknown</td>\n",
       "      <td>89.42</td>\n",
       "      <td>78.91</td>\n",
       "      <td>85.05</td>\n",
       "      <td>253.38</td>\n",
       "    </tr>\n",
       "    <tr>\n",
       "      <th>2</th>\n",
       "      <td>E</td>\n",
       "      <td>79.05</td>\n",
       "      <td>83.36</td>\n",
       "      <td>15.14</td>\n",
       "      <td>177.55</td>\n",
       "    </tr>\n",
       "    <tr>\n",
       "      <th>3</th>\n",
       "      <td>T</td>\n",
       "      <td>49.79</td>\n",
       "      <td>41.95</td>\n",
       "      <td>20.59</td>\n",
       "      <td>112.33</td>\n",
       "    </tr>\n",
       "    <tr>\n",
       "      <th>4</th>\n",
       "      <td>E10+</td>\n",
       "      <td>54.24</td>\n",
       "      <td>42.69</td>\n",
       "      <td>5.89</td>\n",
       "      <td>102.82</td>\n",
       "    </tr>\n",
       "  </tbody>\n",
       "</table>\n",
       "</div>"
      ],
      "text/plain": [
       "    rating  na_sales  eu_sales  jp_sales  total_sales\n",
       "0        M    165.21    145.32     14.11       324.64\n",
       "1  Unknown     89.42     78.91     85.05       253.38\n",
       "2        E     79.05     83.36     15.14       177.55\n",
       "3        T     49.79     41.95     20.59       112.33\n",
       "4     E10+     54.24     42.69      5.89       102.82"
      ]
     },
     "execution_count": 48,
     "metadata": {},
     "output_type": "execute_result"
    }
   ],
   "source": [
    "# Analyze ESRB impact for each region\n",
    "\n",
    "# Apply the function for NA, EU, JP regions\n",
    "na_esrb_sales = analyze_esrb_performance(df_relevant, 'na_sales')\n",
    "eu_esrb_sales = analyze_esrb_performance(df_relevant, 'eu_sales')\n",
    "jp_esrb_sales = analyze_esrb_performance(df_relevant, 'jp_sales')\n",
    "\n",
    "# Merge the results for cross-regional ESRB comparison\n",
    "esrb_comparison = na_esrb_sales.merge(eu_esrb_sales, on='rating', how='outer', suffixes=('_na', '_eu'))\n",
    "esrb_comparison = esrb_comparison.merge(jp_esrb_sales, on='rating', how='outer')\n",
    "esrb_comparison.rename(columns={'jp_sales': 'jp_sales'}, inplace=True)\n",
    "esrb_comparison.fillna(0, inplace=True)\n",
    "esrb_comparison['total_sales'] = esrb_comparison['na_sales'] + esrb_comparison['eu_sales'] + esrb_comparison['jp_sales']\n",
    "esrb_comparison = esrb_comparison.sort_values(by='total_sales', ascending=False).reset_index(drop=True)\n",
    "\n",
    "# Display ESRB comparison table\n",
    "esrb_comparison"
   ]
  },
  {
   "cell_type": "markdown",
   "metadata": {},
   "source": [
    "<div style=\"background-color: #d4edda; color: #155724; padding: 15px; border-radius: 4px; border: 1px solid #c3e6cb;\">\n",
    "\n",
    "<b>Reviewer's comment v1:</b>\n",
    "\n",
    "Looks great! \n",
    "\n",
    "As a second approach, you could also arrange subplots using plotly in the following way: \n",
    "    \n",
    "```\n",
    "# Create individual pie charts with Plotly Express\n",
    "fig_jp = px.pie(jpesrb_sort, values='jp_sales', names='rating', title='ESRB-JP')\n",
    "fig_eu = px.pie(euesrb_sort, values='eu_sales', names='rating', title='ESRB-EU')\n",
    "fig_na = px.pie(naesrb_sort, values='na_sales', names='rating', title='ESRB-NA')\n",
    "\n",
    "# Create a subplot grid with 1 row and 3 columns\n",
    "fig = make_subplots(rows=1, cols=3, specs=[[{'type':'domain'}, {'type':'domain'}, {'type':'domain'}]])\n",
    "\n",
    "# Add each pie chart to the subplot\n",
    "fig.add_trace(fig_jp.data[0], row=1, col=1)\n",
    "fig.add_trace(fig_eu.data[0], row=1, col=2)\n",
    "fig.add_trace(fig_na.data[0], row=1, col=3)\n",
    "\n",
    "# Update layout to show the titles properly\n",
    "fig.update_layout(title_text=\"ESRB Ratings Comparison\", showlegend=False)\n",
    "\n",
    "# Show the combined plot\n",
    "fig.show()\n",
    "```"
   ]
  },
  {
   "cell_type": "markdown",
   "metadata": {
    "id": "HR1z031jIYZ7"
   },
   "source": [
    "# Step 5 : Hypothesis Tests\n",
    "\n",
    "—Average user ratings of the Xbox One and PC platforms are the same.\n",
    "\n",
    "—Average user ratings for the Action and Sports genres are different.\n",
    "\n",
    "Set the *alpha* threshold value yourself.\n",
    "\n",
    "Explain:\n",
    "\n",
    "—How you formulated the null and alternative hypotheses\n",
    "\n",
    "—What criteria you used to test the hypotheses~~,~~ and why\n"
   ]
  },
  {
   "cell_type": "code",
   "execution_count": 49,
   "metadata": {
    "id": "-KfbHSwWIdn6"
   },
   "outputs": [
    {
     "data": {
      "text/plain": [
       "((-4.653422798410771, 4.935072360183574e-06),\n",
       " (1.57746791633354, 0.11483818791498286))"
      ]
     },
     "execution_count": 49,
     "metadata": {},
     "output_type": "execute_result"
    }
   ],
   "source": [
    "# Hypothesis Test 1: Xbox One vs PC user ratings\n",
    "\n",
    "# Filter data for Xbox One and PC platforms (we'll use all available years for better sample size)\n",
    "xone_scores = df[df['platform'] == 'XOne']['user_score'].dropna()\n",
    "pc_scores = df[df['platform'] == 'PC']['user_score'].dropna()\n",
    "\n",
    "# Formulate hypotheses:\n",
    "# H0: The average user scores for Xbox One and PC are the same.\n",
    "# H1: The average user scores for Xbox One and PC are different.\n",
    "\n",
    "# Perform independent two-sample t-test\n",
    "alpha = 0.05  # threshold for significance\n",
    "t_stat1, p_val1 = stats.ttest_ind(xone_scores, pc_scores, equal_var=False)\n",
    "\n",
    "# Hypothesis Test 2: Action vs Sports genre user ratings\n",
    "\n",
    "# Filter data for Action and Sports genres\n",
    "action_scores = df[df['genre'] == 'Action']['user_score'].dropna()\n",
    "sports_scores = df[df['genre'] == 'Sports']['user_score'].dropna()\n",
    "\n",
    "# Formulate hypotheses:\n",
    "# H0: The average user scores for Action and Sports genres are the same.\n",
    "# H1: The average user scores for Action and Sports genres are different.\n",
    "\n",
    "# Perform independent two-sample t-test\n",
    "t_stat2, p_val2 = stats.ttest_ind(action_scores, sports_scores, equal_var=False)\n",
    "\n",
    "# Return results\n",
    "(t_stat1, p_val1), (t_stat2, p_val2)"
   ]
  },
  {
   "cell_type": "markdown",
   "metadata": {},
   "source": [
    "Test 1:\n",
    "H0 (null):\n",
    "The average user ratings for Xbox One and PC are the same.\n",
    "\n",
    "H1 (alternative):\n",
    "The average user ratings for Xbox One and PC are different.\n",
    "\n",
    "Test 2:\n",
    "H0 (null):\n",
    "The average user ratings for Action and Sports genres are the same.\n",
    "\n",
    "H1 (alternative):\n",
    "The average user ratings for Action and Sports genres are different.\n",
    "\n",
    "\n",
    "Why a two-sample t-test was used:\n",
    "\n",
    "We're comparing means of two independent groups.\n",
    "\n",
    "User ratings are continuous numeric data.\n",
    "\n",
    "Assumed unequal variances"
   ]
  },
  {
   "cell_type": "markdown",
   "metadata": {},
   "source": [
    "<div style=\"background-color: #d4edda; color: #155724; padding: 15px; border-radius: 4px; border: 1px solid #c3e6cb;\">\n",
    "<b>Reviewer's comment v1:</b>\n",
    "\n",
    "Great job! Your results and conclusions are correct.\n",
    "\n",
    "You've correctly stated the null and alternative hypotheses for both tests. It's always good practice to write these out explicitly, as you did.\n",
    "\n",
    "Additionally, before testing your hypotheses, you can compare the variances of the samples to determine which value to use for the <code>equal_var</code> parameter in the <code>ttest_ind</code> method (by default, it is set to <code>True</code>). You can calculate the variances manually, or use Levene’s test or Bartlett’s test to check for equality of variances.\n",
    "\n",
    "https://docs.scipy.org/doc/scipy/reference/generated/scipy.stats.levene.html\n",
    "\n",
    "https://docs.scipy.org/doc/scipy/reference/generated/scipy.stats.bartlett.html\n",
    "\n",
    "</div>"
   ]
  },
  {
   "cell_type": "markdown",
   "metadata": {
    "id": "424VTr4lIfzr"
   },
   "source": [
    "# Step 6. Write a general conclusion\n"
   ]
  },
  {
   "cell_type": "markdown",
   "metadata": {
    "id": "Rl-6ZMpnImpz"
   },
   "source": [
    "After a thorough analysis of global video game sales from recent years (2013–2016), we’ve identified key patterns that can guide Ice’s marketing and sales strategy for 2017:\n",
    "\n",
    "1. Platform Performance\n",
    "PlayStation 4 (PS4) is currently the global leader, dominating sales across North America, Europe, and Japan.\n",
    "\n",
    "Xbox One (XOne) shows strong sales in North America but lags behind in Europe and Japan.\n",
    "\n",
    "3DS continues to perform very well in Japan, showing the regional strength of handheld platforms.\n",
    "\n",
    "Older platforms like PS3, Xbox 360, Wii, and PSV are now in steep decline and should no longer be the focus of future campaigns.\n",
    "\n",
    "2. Genre Preferences\n",
    "Action and Shooter games dominate globally in total sales.\n",
    "\n",
    "Shooters have the highest average sales per game, making them consistent top-performers, especially in NA and EU.\n",
    "\n",
    "Role-Playing Games (RPGs) are exceptionally strong in Japan, indicating strong regional genre preferences.\n",
    "\n",
    "Sports games maintain steady popularity worldwide.\n",
    "\n",
    "3. Regional Differences\n",
    "North America and Europe heavily favor Action, Shooter, and Sports genres.\n",
    "\n",
    "Japan remains distinct, with a high concentration of sales in RPGs and handheld platforms.\n",
    "\n",
    "4. ESRB Ratings Impact\n",
    "The Mature (M) rating dominates global sales, particularly in NA and EU, driven by high-profile franchises.\n",
    "\n",
    "Everyone (E) and Teen (T) rated games still contribute significant sales, especially for family-friendly and casual audiences.\n",
    "\n",
    "5. Review Score Insights\n",
    "Critic scores correlate moderately with sales, indicating that highly rated games have stronger commercial potential.\n",
    "\n",
    "User scores show little direct correlation to sales, but still provide qualitative insights for customer satisfaction.\n",
    "\n",
    "6. Statistical Hypothesis Testing\n",
    "There are significant differences in user ratings between platforms (e.g., Xbox One vs PC).\n",
    "\n",
    "No significant difference was observed between user ratings for Action and Sports genres.\n",
    "\n",
    "Recommendation Summary for 2017:\n",
    "\n",
    "Focus on promoting PS4, Xbox One, and 3DS titles.\n",
    "\n",
    "Prioritize Action, Shooter, Sports, and RPG genres.\n",
    "\n",
    "Align marketing efforts regionally: promote RPGs more heavily in Japan, while focusing on Action and Shooters in NA and EU.\n",
    "\n",
    "Prioritize M-rated blockbusters while maintaining a secondary focus on E-rated family-friendly games.\n",
    "\n",
    "Use critic scores as a forecasting tool for early marketing decisions.\n",
    "\n",
    "\n",
    "\n",
    "This analysis provides Ice with a strong data-backed foundation to identify future bestsellers and optimize advertising campaigns for 2017.\n",
    "\n"
   ]
  },
  {
   "cell_type": "markdown",
   "metadata": {},
   "source": [
    "<div style=\"background-color: #d4edda; color: #155724; padding: 15px; border-radius: 4px; border: 1px solid #c3e6cb;\">\n",
    "\n",
    "<b>Reviewer's comment v1</b>\n",
    " \n",
    "You did an excellent job analyzing the data and drawing conclusions!\n",
    "\n",
    "It’s great that you pay attention to formulating interim conclusions in your project-this is an excellent practice that will benefit you in future projects. Keep using this approach, as it makes your analysis more structured and easier for readers and colleagues to understand.\n",
    "\n",
    "Additionally, it’s fantastic that you included valuable insights about trends in the gaming industry. You did a great job highlighting key points and interpreting them clearly.\n",
    "\n",
    "Overall, excellent work! Keep it up! 😊"
   ]
  }
 ],
 "metadata": {
  "ExecuteTimeLog": [
   {
    "duration": 306,
    "start_time": "2025-04-06T02:18:50.047Z"
   },
   {
    "duration": 308,
    "start_time": "2025-04-06T14:25:30.244Z"
   },
   {
    "duration": 520,
    "start_time": "2025-04-06T14:28:28.764Z"
   },
   {
    "duration": 59,
    "start_time": "2025-04-06T14:29:28.627Z"
   },
   {
    "duration": 157,
    "start_time": "2025-04-06T19:01:43.273Z"
   },
   {
    "duration": 282,
    "start_time": "2025-04-06T19:01:54.291Z"
   },
   {
    "duration": 364,
    "start_time": "2025-04-06T19:01:55.599Z"
   },
   {
    "duration": 6,
    "start_time": "2025-04-06T19:12:53.816Z"
   },
   {
    "duration": 36,
    "start_time": "2025-04-06T19:17:25.182Z"
   },
   {
    "duration": 30,
    "start_time": "2025-04-06T19:20:02.015Z"
   },
   {
    "duration": 12,
    "start_time": "2025-04-06T19:20:26.594Z"
   },
   {
    "duration": 10,
    "start_time": "2025-04-06T19:20:33.858Z"
   },
   {
    "duration": 18,
    "start_time": "2025-04-06T19:20:41.194Z"
   },
   {
    "duration": 27,
    "start_time": "2025-04-06T19:21:16.994Z"
   },
   {
    "duration": 17,
    "start_time": "2025-04-06T19:21:25.741Z"
   },
   {
    "duration": 156,
    "start_time": "2025-04-07T11:20:27.540Z"
   },
   {
    "duration": 328,
    "start_time": "2025-04-07T11:20:34.461Z"
   },
   {
    "duration": 38,
    "start_time": "2025-04-07T11:20:35.241Z"
   },
   {
    "duration": 22,
    "start_time": "2025-04-07T11:20:36.061Z"
   },
   {
    "duration": 11,
    "start_time": "2025-04-07T11:20:36.900Z"
   },
   {
    "duration": 12,
    "start_time": "2025-04-07T11:37:01.801Z"
   },
   {
    "duration": 18,
    "start_time": "2025-04-07T11:37:10.765Z"
   },
   {
    "duration": 4,
    "start_time": "2025-04-07T11:41:42.416Z"
   },
   {
    "duration": 4,
    "start_time": "2025-04-07T11:42:02.700Z"
   },
   {
    "duration": 4,
    "start_time": "2025-04-07T11:43:27.086Z"
   },
   {
    "duration": 33,
    "start_time": "2025-04-07T11:45:24.176Z"
   },
   {
    "duration": 7,
    "start_time": "2025-04-07T11:45:35.633Z"
   },
   {
    "duration": 13,
    "start_time": "2025-04-07T11:46:32.796Z"
   },
   {
    "duration": 8,
    "start_time": "2025-04-07T11:46:38.496Z"
   },
   {
    "duration": 8,
    "start_time": "2025-04-07T11:48:22.900Z"
   },
   {
    "duration": 4,
    "start_time": "2025-04-07T11:49:42.142Z"
   },
   {
    "duration": 6,
    "start_time": "2025-04-07T11:50:05.581Z"
   },
   {
    "duration": 8,
    "start_time": "2025-04-07T11:50:25.341Z"
   },
   {
    "duration": 20,
    "start_time": "2025-04-07T11:51:38.405Z"
   },
   {
    "duration": 11,
    "start_time": "2025-04-07T11:52:15.555Z"
   },
   {
    "duration": 3,
    "start_time": "2025-04-07T11:54:31.521Z"
   },
   {
    "duration": 3,
    "start_time": "2025-04-07T11:54:35.440Z"
   },
   {
    "duration": 3,
    "start_time": "2025-04-07T11:54:36.420Z"
   },
   {
    "duration": 379,
    "start_time": "2025-04-07T11:55:36.221Z"
   },
   {
    "duration": 7,
    "start_time": "2025-04-07T11:55:49.502Z"
   },
   {
    "duration": 44,
    "start_time": "2025-04-07T11:55:50.802Z"
   },
   {
    "duration": 8,
    "start_time": "2025-04-07T11:56:27.960Z"
   },
   {
    "duration": 8,
    "start_time": "2025-04-07T11:56:35.203Z"
   },
   {
    "duration": 3,
    "start_time": "2025-04-07T11:56:36.231Z"
   },
   {
    "duration": 3,
    "start_time": "2025-04-07T11:56:37.426Z"
   },
   {
    "duration": 27,
    "start_time": "2025-04-07T11:56:54.751Z"
   },
   {
    "duration": 11,
    "start_time": "2025-04-07T11:57:11.761Z"
   },
   {
    "duration": 8,
    "start_time": "2025-04-07T11:57:32.226Z"
   },
   {
    "duration": 6,
    "start_time": "2025-04-07T11:57:58.801Z"
   },
   {
    "duration": 4,
    "start_time": "2025-04-07T12:03:40.461Z"
   },
   {
    "duration": 4,
    "start_time": "2025-04-07T12:04:13.161Z"
   },
   {
    "duration": 4,
    "start_time": "2025-04-07T12:04:23.361Z"
   },
   {
    "duration": 4,
    "start_time": "2025-04-07T12:04:31.521Z"
   },
   {
    "duration": 3,
    "start_time": "2025-04-07T12:06:52.701Z"
   },
   {
    "duration": 8,
    "start_time": "2025-04-07T12:08:24.361Z"
   },
   {
    "duration": 5,
    "start_time": "2025-04-07T12:10:55.720Z"
   },
   {
    "duration": 2,
    "start_time": "2025-04-07T12:11:16.282Z"
   },
   {
    "duration": 8,
    "start_time": "2025-04-07T12:13:28.586Z"
   },
   {
    "duration": 19,
    "start_time": "2025-04-07T12:14:06.243Z"
   },
   {
    "duration": 8,
    "start_time": "2025-04-07T12:14:31.360Z"
   },
   {
    "duration": 10,
    "start_time": "2025-04-07T12:18:22.821Z"
   },
   {
    "duration": 10,
    "start_time": "2025-04-07T12:20:36.784Z"
   },
   {
    "duration": 8,
    "start_time": "2025-04-07T12:27:05.680Z"
   },
   {
    "duration": 3,
    "start_time": "2025-04-07T12:27:43.321Z"
   },
   {
    "duration": 2,
    "start_time": "2025-04-07T12:28:05.867Z"
   },
   {
    "duration": 24,
    "start_time": "2025-04-07T12:28:06.506Z"
   },
   {
    "duration": 14,
    "start_time": "2025-04-07T12:28:06.820Z"
   },
   {
    "duration": 11,
    "start_time": "2025-04-07T12:28:07.120Z"
   },
   {
    "duration": 4,
    "start_time": "2025-04-07T12:28:07.996Z"
   },
   {
    "duration": 6,
    "start_time": "2025-04-07T12:28:08.586Z"
   },
   {
    "duration": 9,
    "start_time": "2025-04-07T12:28:09.136Z"
   },
   {
    "duration": 36,
    "start_time": "2025-04-07T12:28:09.671Z"
   },
   {
    "duration": 3,
    "start_time": "2025-04-07T12:28:10.221Z"
   },
   {
    "duration": 3,
    "start_time": "2025-04-07T12:28:10.481Z"
   },
   {
    "duration": 4,
    "start_time": "2025-04-07T12:28:11.021Z"
   },
   {
    "duration": 8,
    "start_time": "2025-04-07T12:28:11.324Z"
   },
   {
    "duration": 2,
    "start_time": "2025-04-07T12:28:11.588Z"
   },
   {
    "duration": 7,
    "start_time": "2025-04-07T12:28:12.492Z"
   },
   {
    "duration": 7,
    "start_time": "2025-04-07T12:28:12.742Z"
   },
   {
    "duration": 2,
    "start_time": "2025-04-07T12:28:13.026Z"
   },
   {
    "duration": 11,
    "start_time": "2025-04-07T12:28:13.341Z"
   },
   {
    "duration": 2,
    "start_time": "2025-04-07T12:28:13.640Z"
   },
   {
    "duration": 4,
    "start_time": "2025-04-07T12:28:14.501Z"
   },
   {
    "duration": 320,
    "start_time": "2025-04-13T15:24:25.639Z"
   },
   {
    "duration": 36,
    "start_time": "2025-04-13T15:24:26.290Z"
   },
   {
    "duration": 12,
    "start_time": "2025-04-13T15:24:26.794Z"
   },
   {
    "duration": 12,
    "start_time": "2025-04-13T15:24:27.345Z"
   },
   {
    "duration": 8,
    "start_time": "2025-04-13T15:24:29.011Z"
   },
   {
    "duration": 5,
    "start_time": "2025-04-13T15:24:30.434Z"
   },
   {
    "duration": 8,
    "start_time": "2025-04-13T15:24:39.886Z"
   },
   {
    "duration": 526,
    "start_time": "2025-04-13T15:24:41.408Z"
   },
   {
    "duration": 6,
    "start_time": "2025-04-13T15:25:16.646Z"
   },
   {
    "duration": 4,
    "start_time": "2025-04-13T15:25:18.306Z"
   },
   {
    "duration": 3,
    "start_time": "2025-04-13T15:25:18.905Z"
   },
   {
    "duration": 4,
    "start_time": "2025-04-13T15:25:21.645Z"
   },
   {
    "duration": 9,
    "start_time": "2025-04-13T15:25:22.230Z"
   },
   {
    "duration": 3,
    "start_time": "2025-04-13T15:25:22.765Z"
   },
   {
    "duration": 8,
    "start_time": "2025-04-13T15:25:26.972Z"
   },
   {
    "duration": 9,
    "start_time": "2025-04-13T15:25:27.368Z"
   },
   {
    "duration": 2,
    "start_time": "2025-04-13T15:25:28.071Z"
   },
   {
    "duration": 14,
    "start_time": "2025-04-13T15:25:28.716Z"
   },
   {
    "duration": 3,
    "start_time": "2025-04-13T15:25:30.030Z"
   },
   {
    "duration": 4,
    "start_time": "2025-04-13T15:25:31.994Z"
   },
   {
    "duration": 5,
    "start_time": "2025-04-13T15:29:34.580Z"
   },
   {
    "duration": 1900,
    "start_time": "2025-04-13T15:30:56.064Z"
   },
   {
    "duration": 28,
    "start_time": "2025-04-13T15:30:57.966Z"
   },
   {
    "duration": 17,
    "start_time": "2025-04-13T15:30:57.996Z"
   },
   {
    "duration": 11,
    "start_time": "2025-04-13T15:30:58.015Z"
   },
   {
    "duration": 4,
    "start_time": "2025-04-13T15:30:58.027Z"
   },
   {
    "duration": 4,
    "start_time": "2025-04-13T15:30:58.034Z"
   },
   {
    "duration": 7,
    "start_time": "2025-04-13T15:30:58.427Z"
   },
   {
    "duration": 7,
    "start_time": "2025-04-13T15:30:58.846Z"
   },
   {
    "duration": 3,
    "start_time": "2025-04-13T15:30:59.220Z"
   },
   {
    "duration": 3,
    "start_time": "2025-04-13T15:30:59.620Z"
   },
   {
    "duration": 5,
    "start_time": "2025-04-13T15:31:00.060Z"
   },
   {
    "duration": 9,
    "start_time": "2025-04-13T15:31:00.259Z"
   },
   {
    "duration": 2,
    "start_time": "2025-04-13T15:31:00.504Z"
   },
   {
    "duration": 8,
    "start_time": "2025-04-13T15:31:02.282Z"
   },
   {
    "duration": 6,
    "start_time": "2025-04-13T15:31:02.502Z"
   },
   {
    "duration": 2,
    "start_time": "2025-04-13T15:31:02.720Z"
   },
   {
    "duration": 11,
    "start_time": "2025-04-13T15:31:02.990Z"
   },
   {
    "duration": 2,
    "start_time": "2025-04-13T15:31:03.163Z"
   },
   {
    "duration": 4,
    "start_time": "2025-04-13T15:31:03.840Z"
   },
   {
    "duration": 5,
    "start_time": "2025-04-13T15:31:04.302Z"
   },
   {
    "duration": 1132,
    "start_time": "2025-04-13T15:31:04.855Z"
   },
   {
    "duration": 201,
    "start_time": "2025-04-13T15:32:19.360Z"
   },
   {
    "duration": 283,
    "start_time": "2025-04-13T15:34:24.370Z"
   },
   {
    "duration": 143,
    "start_time": "2025-04-13T15:37:07.015Z"
   },
   {
    "duration": 17,
    "start_time": "2025-04-13T15:39:02.598Z"
   }
  ],
  "colab": {
   "provenance": []
  },
  "kernelspec": {
   "display_name": "Python 3 (ipykernel)",
   "language": "python",
   "name": "python3"
  },
  "language_info": {
   "codemirror_mode": {
    "name": "ipython",
    "version": 3
   },
   "file_extension": ".py",
   "mimetype": "text/x-python",
   "name": "python",
   "nbconvert_exporter": "python",
   "pygments_lexer": "ipython3",
   "version": "3.9.22"
  },
  "toc": {
   "base_numbering": 1,
   "nav_menu": {},
   "number_sections": true,
   "sideBar": true,
   "skip_h1_title": true,
   "title_cell": "Table of Contents",
   "title_sidebar": "Contents",
   "toc_cell": false,
   "toc_position": {},
   "toc_section_display": true,
   "toc_window_display": false
  }
 },
 "nbformat": 4,
 "nbformat_minor": 4
}
